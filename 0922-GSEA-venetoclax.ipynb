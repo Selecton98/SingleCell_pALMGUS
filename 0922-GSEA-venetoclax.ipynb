{
 "cells": [
  {
   "cell_type": "code",
   "execution_count": 1,
   "metadata": {},
   "outputs": [
    {
     "name": "stderr",
     "output_type": "stream",
     "text": [
      "Warning message:\n",
      "“multiple methods tables found for ‘which’”\n",
      "Warning message:\n",
      "“multiple methods tables found for ‘which’”\n",
      "Loading required package: BiocGenerics\n",
      "\n",
      "Loading required package: parallel\n",
      "\n",
      "\n",
      "Attaching package: ‘BiocGenerics’\n",
      "\n",
      "\n",
      "The following objects are masked from ‘package:parallel’:\n",
      "\n",
      "    clusterApply, clusterApplyLB, clusterCall, clusterEvalQ,\n",
      "    clusterExport, clusterMap, parApply, parCapply, parLapply,\n",
      "    parLapplyLB, parRapply, parSapply, parSapplyLB\n",
      "\n",
      "\n",
      "The following objects are masked from ‘package:stats’:\n",
      "\n",
      "    IQR, mad, sd, var, xtabs\n",
      "\n",
      "\n",
      "The following objects are masked from ‘package:base’:\n",
      "\n",
      "    anyDuplicated, append, as.data.frame, basename, cbind, colnames,\n",
      "    dirname, do.call, duplicated, eval, evalq, Filter, Find, get, grep,\n",
      "    grepl, intersect, is.unsorted, lapply, Map, mapply, match, mget,\n",
      "    order, paste, pmax, pmax.int, pmin, pmin.int, Position, rank,\n",
      "    rbind, Reduce, rownames, sapply, setdiff, sort, table, tapply,\n",
      "    union, unique, unsplit, which.max, which.min\n",
      "\n",
      "\n",
      "Loading required package: Biobase\n",
      "\n",
      "Welcome to Bioconductor\n",
      "\n",
      "    Vignettes contain introductory material; view with\n",
      "    'browseVignettes()'. To cite Bioconductor, see\n",
      "    'citation(\"Biobase\")', and for packages 'citation(\"pkgname\")'.\n",
      "\n",
      "\n",
      "Loading required package: annotate\n",
      "\n",
      "Loading required package: AnnotationDbi\n",
      "\n",
      "Loading required package: stats4\n",
      "\n",
      "Loading required package: IRanges\n",
      "\n",
      "Loading required package: S4Vectors\n",
      "\n",
      "\n",
      "Attaching package: ‘S4Vectors’\n",
      "\n",
      "\n",
      "The following object is masked from ‘package:base’:\n",
      "\n",
      "    expand.grid\n",
      "\n",
      "\n",
      "Loading required package: XML\n",
      "\n",
      "Loading required package: graph\n",
      "\n",
      "\n",
      "Attaching package: ‘graph’\n",
      "\n",
      "\n",
      "The following object is masked from ‘package:XML’:\n",
      "\n",
      "    addNode\n",
      "\n",
      "\n",
      "\n",
      "\n",
      "\n",
      "\n",
      "\n",
      "Attaching package: ‘limma’\n",
      "\n",
      "\n",
      "The following object is masked from ‘package:BiocGenerics’:\n",
      "\n",
      "    plotMA\n",
      "\n",
      "\n"
     ]
    }
   ],
   "source": [
    "library(GSVA)\n",
    "library(GSEABase)\n",
    "library(msigdbr)\n",
    "library(org.Hs.eg.db)\n",
    "library(enrichplot)\n",
    "library(limma)"
   ]
  },
  {
   "cell_type": "code",
   "execution_count": 2,
   "metadata": {},
   "outputs": [
    {
     "name": "stderr",
     "output_type": "stream",
     "text": [
      "clusterProfiler v3.16.1  For help: https://guangchuangyu.github.io/software/clusterProfiler\n",
      "\n",
      "If you use clusterProfiler in published research, please cite:\n",
      "Guangchuang Yu, Li-Gen Wang, Yanyan Han, Qing-Yu He. clusterProfiler: an R package for comparing biological themes among gene clusters. OMICS: A Journal of Integrative Biology. 2012, 16(5):284-287.\n",
      "\n",
      "\n",
      "Attaching package: ‘clusterProfiler’\n",
      "\n",
      "\n",
      "The following object is masked from ‘package:AnnotationDbi’:\n",
      "\n",
      "    select\n",
      "\n",
      "\n",
      "The following object is masked from ‘package:IRanges’:\n",
      "\n",
      "    slice\n",
      "\n",
      "\n",
      "The following object is masked from ‘package:S4Vectors’:\n",
      "\n",
      "    rename\n",
      "\n",
      "\n",
      "The following object is masked from ‘package:stats’:\n",
      "\n",
      "    filter\n",
      "\n",
      "\n"
     ]
    }
   ],
   "source": [
    "library(clusterProfiler)"
   ]
  },
  {
   "cell_type": "code",
   "execution_count": 3,
   "metadata": {},
   "outputs": [
    {
     "name": "stderr",
     "output_type": "stream",
     "text": [
      "── \u001b[1mAttaching packages\u001b[22m ────────────────────────────────────────────────────────────────────────────────────────────────────────────────────────────────────────────────────────────── tidyverse 1.3.0 ──\n",
      "\n",
      "\u001b[32m✔\u001b[39m \u001b[34mggplot2\u001b[39m 3.3.5     \u001b[32m✔\u001b[39m \u001b[34mpurrr  \u001b[39m 0.3.4\n",
      "\u001b[32m✔\u001b[39m \u001b[34mtibble \u001b[39m 3.1.4     \u001b[32m✔\u001b[39m \u001b[34mdplyr  \u001b[39m 1.0.7\n",
      "\u001b[32m✔\u001b[39m \u001b[34mtidyr  \u001b[39m 1.1.3     \u001b[32m✔\u001b[39m \u001b[34mstringr\u001b[39m 1.4.0\n",
      "\u001b[32m✔\u001b[39m \u001b[34mreadr  \u001b[39m 2.0.1     \u001b[32m✔\u001b[39m \u001b[34mforcats\u001b[39m 0.5.1\n",
      "\n",
      "── \u001b[1mConflicts\u001b[22m ───────────────────────────────────────────────────────────────────────────────────────────────────────────────────────────────────────────────────────────────── tidyverse_conflicts() ──\n",
      "\u001b[31m✖\u001b[39m \u001b[34mstringr\u001b[39m::\u001b[32mboundary()\u001b[39m masks \u001b[34mgraph\u001b[39m::boundary()\n",
      "\u001b[31m✖\u001b[39m \u001b[34mdplyr\u001b[39m::\u001b[32mcollapse()\u001b[39m   masks \u001b[34mIRanges\u001b[39m::collapse()\n",
      "\u001b[31m✖\u001b[39m \u001b[34mdplyr\u001b[39m::\u001b[32mcombine()\u001b[39m    masks \u001b[34mBiobase\u001b[39m::combine(), \u001b[34mBiocGenerics\u001b[39m::combine()\n",
      "\u001b[31m✖\u001b[39m \u001b[34mdplyr\u001b[39m::\u001b[32mdesc()\u001b[39m       masks \u001b[34mIRanges\u001b[39m::desc()\n",
      "\u001b[31m✖\u001b[39m \u001b[34mtidyr\u001b[39m::\u001b[32mexpand()\u001b[39m     masks \u001b[34mS4Vectors\u001b[39m::expand()\n",
      "\u001b[31m✖\u001b[39m \u001b[34mdplyr\u001b[39m::\u001b[32mfilter()\u001b[39m     masks \u001b[34mclusterProfiler\u001b[39m::filter(), \u001b[34mstats\u001b[39m::filter()\n",
      "\u001b[31m✖\u001b[39m \u001b[34mdplyr\u001b[39m::\u001b[32mfirst()\u001b[39m      masks \u001b[34mS4Vectors\u001b[39m::first()\n",
      "\u001b[31m✖\u001b[39m \u001b[34mdplyr\u001b[39m::\u001b[32mlag()\u001b[39m        masks \u001b[34mstats\u001b[39m::lag()\n",
      "\u001b[31m✖\u001b[39m \u001b[34mggplot2\u001b[39m::\u001b[32mPosition()\u001b[39m masks \u001b[34mBiocGenerics\u001b[39m::Position(), \u001b[34mbase\u001b[39m::Position()\n",
      "\u001b[31m✖\u001b[39m \u001b[34mpurrr\u001b[39m::\u001b[32mreduce()\u001b[39m     masks \u001b[34mIRanges\u001b[39m::reduce()\n",
      "\u001b[31m✖\u001b[39m \u001b[34mdplyr\u001b[39m::\u001b[32mrename()\u001b[39m     masks \u001b[34mclusterProfiler\u001b[39m::rename(), \u001b[34mS4Vectors\u001b[39m::rename()\n",
      "\u001b[31m✖\u001b[39m \u001b[34mdplyr\u001b[39m::\u001b[32mselect()\u001b[39m     masks \u001b[34mclusterProfiler\u001b[39m::select(), \u001b[34mAnnotationDbi\u001b[39m::select()\n",
      "\u001b[31m✖\u001b[39m \u001b[34mpurrr\u001b[39m::\u001b[32msimplify()\u001b[39m   masks \u001b[34mclusterProfiler\u001b[39m::simplify()\n",
      "\u001b[31m✖\u001b[39m \u001b[34mdplyr\u001b[39m::\u001b[32mslice()\u001b[39m      masks \u001b[34mclusterProfiler\u001b[39m::slice(), \u001b[34mIRanges\u001b[39m::slice()\n",
      "\n"
     ]
    }
   ],
   "source": [
    "library(tidyverse)"
   ]
  },
  {
   "cell_type": "code",
   "execution_count": 4,
   "metadata": {},
   "outputs": [
    {
     "data": {
      "text/html": [
       "<table class=\"dataframe\">\n",
       "<caption>A tibble: 20 × 2</caption>\n",
       "<thead>\n",
       "\t<tr><th scope=col>species_name</th><th scope=col>species_common_name</th></tr>\n",
       "\t<tr><th scope=col>&lt;chr&gt;</th><th scope=col>&lt;chr&gt;</th></tr>\n",
       "</thead>\n",
       "<tbody>\n",
       "\t<tr><td>Anolis carolinensis            </td><td>Carolina anole, green anole                                   </td></tr>\n",
       "\t<tr><td>Bos taurus                     </td><td>bovine, cattle, cow, dairy cow, domestic cattle, domestic cow </td></tr>\n",
       "\t<tr><td>Caenorhabditis elegans         </td><td>roundworm                                                     </td></tr>\n",
       "\t<tr><td>Canis lupus familiaris         </td><td>dog, dogs                                                     </td></tr>\n",
       "\t<tr><td>Danio rerio                    </td><td>leopard danio, zebra danio, zebra fish, zebrafish             </td></tr>\n",
       "\t<tr><td>Drosophila melanogaster        </td><td>fruit fly                                                     </td></tr>\n",
       "\t<tr><td>Equus caballus                 </td><td>domestic horse, equine, horse                                 </td></tr>\n",
       "\t<tr><td>Felis catus                    </td><td>cat, cats, domestic cat                                       </td></tr>\n",
       "\t<tr><td>Gallus gallus                  </td><td>bantam, chicken, chickens, Gallus domesticus                  </td></tr>\n",
       "\t<tr><td>Homo sapiens                   </td><td>human                                                         </td></tr>\n",
       "\t<tr><td>Macaca mulatta                 </td><td>rhesus macaque, rhesus macaques, Rhesus monkey, rhesus monkeys</td></tr>\n",
       "\t<tr><td>Monodelphis domestica          </td><td>gray short-tailed opossum                                     </td></tr>\n",
       "\t<tr><td>Mus musculus                   </td><td>house mouse, mouse                                            </td></tr>\n",
       "\t<tr><td>Ornithorhynchus anatinus       </td><td>duck-billed platypus, duckbill platypus, platypus             </td></tr>\n",
       "\t<tr><td>Pan troglodytes                </td><td>chimpanzee                                                    </td></tr>\n",
       "\t<tr><td>Rattus norvegicus              </td><td>brown rat, Norway rat, rat, rats                              </td></tr>\n",
       "\t<tr><td>Saccharomyces cerevisiae       </td><td>baker's yeast, brewer's yeast, S. cerevisiae                  </td></tr>\n",
       "\t<tr><td>Schizosaccharomyces pombe 972h-</td><td>NA                                                            </td></tr>\n",
       "\t<tr><td>Sus scrofa                     </td><td>pig, pigs, swine, wild boar                                   </td></tr>\n",
       "\t<tr><td>Xenopus tropicalis             </td><td>tropical clawed frog, western clawed frog                     </td></tr>\n",
       "</tbody>\n",
       "</table>\n"
      ],
      "text/latex": [
       "A tibble: 20 × 2\n",
       "\\begin{tabular}{ll}\n",
       " species\\_name & species\\_common\\_name\\\\\n",
       " <chr> & <chr>\\\\\n",
       "\\hline\n",
       "\t Anolis carolinensis             & Carolina anole, green anole                                   \\\\\n",
       "\t Bos taurus                      & bovine, cattle, cow, dairy cow, domestic cattle, domestic cow \\\\\n",
       "\t Caenorhabditis elegans          & roundworm                                                     \\\\\n",
       "\t Canis lupus familiaris          & dog, dogs                                                     \\\\\n",
       "\t Danio rerio                     & leopard danio, zebra danio, zebra fish, zebrafish             \\\\\n",
       "\t Drosophila melanogaster         & fruit fly                                                     \\\\\n",
       "\t Equus caballus                  & domestic horse, equine, horse                                 \\\\\n",
       "\t Felis catus                     & cat, cats, domestic cat                                       \\\\\n",
       "\t Gallus gallus                   & bantam, chicken, chickens, Gallus domesticus                  \\\\\n",
       "\t Homo sapiens                    & human                                                         \\\\\n",
       "\t Macaca mulatta                  & rhesus macaque, rhesus macaques, Rhesus monkey, rhesus monkeys\\\\\n",
       "\t Monodelphis domestica           & gray short-tailed opossum                                     \\\\\n",
       "\t Mus musculus                    & house mouse, mouse                                            \\\\\n",
       "\t Ornithorhynchus anatinus        & duck-billed platypus, duckbill platypus, platypus             \\\\\n",
       "\t Pan troglodytes                 & chimpanzee                                                    \\\\\n",
       "\t Rattus norvegicus               & brown rat, Norway rat, rat, rats                              \\\\\n",
       "\t Saccharomyces cerevisiae        & baker's yeast, brewer's yeast, S. cerevisiae                  \\\\\n",
       "\t Schizosaccharomyces pombe 972h- & NA                                                            \\\\\n",
       "\t Sus scrofa                      & pig, pigs, swine, wild boar                                   \\\\\n",
       "\t Xenopus tropicalis              & tropical clawed frog, western clawed frog                     \\\\\n",
       "\\end{tabular}\n"
      ],
      "text/markdown": [
       "\n",
       "A tibble: 20 × 2\n",
       "\n",
       "| species_name &lt;chr&gt; | species_common_name &lt;chr&gt; |\n",
       "|---|---|\n",
       "| Anolis carolinensis             | Carolina anole, green anole                                    |\n",
       "| Bos taurus                      | bovine, cattle, cow, dairy cow, domestic cattle, domestic cow  |\n",
       "| Caenorhabditis elegans          | roundworm                                                      |\n",
       "| Canis lupus familiaris          | dog, dogs                                                      |\n",
       "| Danio rerio                     | leopard danio, zebra danio, zebra fish, zebrafish              |\n",
       "| Drosophila melanogaster         | fruit fly                                                      |\n",
       "| Equus caballus                  | domestic horse, equine, horse                                  |\n",
       "| Felis catus                     | cat, cats, domestic cat                                        |\n",
       "| Gallus gallus                   | bantam, chicken, chickens, Gallus domesticus                   |\n",
       "| Homo sapiens                    | human                                                          |\n",
       "| Macaca mulatta                  | rhesus macaque, rhesus macaques, Rhesus monkey, rhesus monkeys |\n",
       "| Monodelphis domestica           | gray short-tailed opossum                                      |\n",
       "| Mus musculus                    | house mouse, mouse                                             |\n",
       "| Ornithorhynchus anatinus        | duck-billed platypus, duckbill platypus, platypus              |\n",
       "| Pan troglodytes                 | chimpanzee                                                     |\n",
       "| Rattus norvegicus               | brown rat, Norway rat, rat, rats                               |\n",
       "| Saccharomyces cerevisiae        | baker's yeast, brewer's yeast, S. cerevisiae                   |\n",
       "| Schizosaccharomyces pombe 972h- | NA                                                             |\n",
       "| Sus scrofa                      | pig, pigs, swine, wild boar                                    |\n",
       "| Xenopus tropicalis              | tropical clawed frog, western clawed frog                      |\n",
       "\n"
      ],
      "text/plain": [
       "   species_name                   \n",
       "1  Anolis carolinensis            \n",
       "2  Bos taurus                     \n",
       "3  Caenorhabditis elegans         \n",
       "4  Canis lupus familiaris         \n",
       "5  Danio rerio                    \n",
       "6  Drosophila melanogaster        \n",
       "7  Equus caballus                 \n",
       "8  Felis catus                    \n",
       "9  Gallus gallus                  \n",
       "10 Homo sapiens                   \n",
       "11 Macaca mulatta                 \n",
       "12 Monodelphis domestica          \n",
       "13 Mus musculus                   \n",
       "14 Ornithorhynchus anatinus       \n",
       "15 Pan troglodytes                \n",
       "16 Rattus norvegicus              \n",
       "17 Saccharomyces cerevisiae       \n",
       "18 Schizosaccharomyces pombe 972h-\n",
       "19 Sus scrofa                     \n",
       "20 Xenopus tropicalis             \n",
       "   species_common_name                                           \n",
       "1  Carolina anole, green anole                                   \n",
       "2  bovine, cattle, cow, dairy cow, domestic cattle, domestic cow \n",
       "3  roundworm                                                     \n",
       "4  dog, dogs                                                     \n",
       "5  leopard danio, zebra danio, zebra fish, zebrafish             \n",
       "6  fruit fly                                                     \n",
       "7  domestic horse, equine, horse                                 \n",
       "8  cat, cats, domestic cat                                       \n",
       "9  bantam, chicken, chickens, Gallus domesticus                  \n",
       "10 human                                                         \n",
       "11 rhesus macaque, rhesus macaques, Rhesus monkey, rhesus monkeys\n",
       "12 gray short-tailed opossum                                     \n",
       "13 house mouse, mouse                                            \n",
       "14 duck-billed platypus, duckbill platypus, platypus             \n",
       "15 chimpanzee                                                    \n",
       "16 brown rat, Norway rat, rat, rats                              \n",
       "17 baker's yeast, brewer's yeast, S. cerevisiae                  \n",
       "18 NA                                                            \n",
       "19 pig, pigs, swine, wild boar                                   \n",
       "20 tropical clawed frog, western clawed frog                     "
      ]
     },
     "metadata": {},
     "output_type": "display_data"
    }
   ],
   "source": [
    "msigdbr_species()"
   ]
  },
  {
   "cell_type": "code",
   "execution_count": 5,
   "metadata": {},
   "outputs": [],
   "source": [
    "ALAL<-read.csv('0914.cluster0.ALAL.csv')"
   ]
  },
  {
   "cell_type": "code",
   "execution_count": 6,
   "metadata": {},
   "outputs": [],
   "source": [
    "ALAL<-ALAL[which(ALAL$p_val<0.05),]"
   ]
  },
  {
   "cell_type": "code",
   "execution_count": 7,
   "metadata": {},
   "outputs": [],
   "source": [
    "ALAL$avg_log2FC<-(-ALAL$avg_log2FC)"
   ]
  },
  {
   "cell_type": "code",
   "execution_count": 8,
   "metadata": {},
   "outputs": [
    {
     "data": {
      "text/html": [
       "<style>\n",
       ".dl-inline {width: auto; margin:0; padding: 0}\n",
       ".dl-inline>dt, .dl-inline>dd {float: none; width: auto; display: inline-block}\n",
       ".dl-inline>dt::after {content: \":\\0020\"; padding-right: .5ex}\n",
       ".dl-inline>dt:not(:first-of-type) {padding-left: .5ex}\n",
       "</style><dl class=dl-inline><dt>JCHAIN</dt><dd>7.70975543294582</dd><dt>CCND1</dt><dd>3.0743607138232</dd><dt>FRZB</dt><dd>2.62872369170461</dd><dt>RP5-887A10.1</dt><dd>2.44586936326678</dd><dt>DUSP1</dt><dd>1.27693411950498</dd><dt>LINC01480</dt><dd>1.24817787023718</dd></dl>\n"
      ],
      "text/latex": [
       "\\begin{description*}\n",
       "\\item[JCHAIN] 7.70975543294582\n",
       "\\item[CCND1] 3.0743607138232\n",
       "\\item[FRZB] 2.62872369170461\n",
       "\\item[RP5-887A10.1] 2.44586936326678\n",
       "\\item[DUSP1] 1.27693411950498\n",
       "\\item[LINC01480] 1.24817787023718\n",
       "\\end{description*}\n"
      ],
      "text/markdown": [
       "JCHAIN\n",
       ":   7.70975543294582CCND1\n",
       ":   3.0743607138232FRZB\n",
       ":   2.62872369170461RP5-887A10.1\n",
       ":   2.44586936326678DUSP1\n",
       ":   1.27693411950498LINC01480\n",
       ":   1.24817787023718\n",
       "\n"
      ],
      "text/plain": [
       "      JCHAIN        CCND1         FRZB RP5-887A10.1        DUSP1    LINC01480 \n",
       "    7.709755     3.074361     2.628724     2.445869     1.276934     1.248178 "
      ]
     },
     "metadata": {},
     "output_type": "display_data"
    }
   ],
   "source": [
    "ge = ALAL$avg_log2FC\n",
    "names(ge) = ALAL$X\n",
    "ge = sort(ge,decreasing=T)\n",
    "head(ge)"
   ]
  },
  {
   "cell_type": "code",
   "execution_count": 9,
   "metadata": {},
   "outputs": [],
   "source": [
    "geneset<-read.csv('venetoclax-MM-diff.csv')"
   ]
  },
  {
   "cell_type": "code",
   "execution_count": 10,
   "metadata": {},
   "outputs": [],
   "source": [
    "genesetup<-geneset[which(geneset$logFC>0),]\n",
    "genesetdw<-geneset[which(geneset$logFC<0),]"
   ]
  },
  {
   "cell_type": "code",
   "execution_count": 11,
   "metadata": {},
   "outputs": [
    {
     "data": {
      "text/html": [
       "<style>\n",
       ".list-inline {list-style: none; margin:0; padding: 0}\n",
       ".list-inline>li {display: inline-block}\n",
       ".list-inline>li:not(:last-child)::after {content: \"\\00b7\"; padding: 0 .5ex}\n",
       "</style>\n",
       "<ol class=list-inline><li>'MS4A1'</li><li>'CD79A'</li><li>'MOCOS'</li><li>'VPREB3'</li><li>'MCL1'</li><li>'SEC14L1'</li><li>'PTP4A3'</li><li>'TRPM4'</li><li>'CPNE5'</li><li>'PPIC'</li><li>'KIAA0125'</li></ol>\n"
      ],
      "text/latex": [
       "\\begin{enumerate*}\n",
       "\\item 'MS4A1'\n",
       "\\item 'CD79A'\n",
       "\\item 'MOCOS'\n",
       "\\item 'VPREB3'\n",
       "\\item 'MCL1'\n",
       "\\item 'SEC14L1'\n",
       "\\item 'PTP4A3'\n",
       "\\item 'TRPM4'\n",
       "\\item 'CPNE5'\n",
       "\\item 'PPIC'\n",
       "\\item 'KIAA0125'\n",
       "\\end{enumerate*}\n"
      ],
      "text/markdown": [
       "1. 'MS4A1'\n",
       "2. 'CD79A'\n",
       "3. 'MOCOS'\n",
       "4. 'VPREB3'\n",
       "5. 'MCL1'\n",
       "6. 'SEC14L1'\n",
       "7. 'PTP4A3'\n",
       "8. 'TRPM4'\n",
       "9. 'CPNE5'\n",
       "10. 'PPIC'\n",
       "11. 'KIAA0125'\n",
       "\n",
       "\n"
      ],
      "text/plain": [
       " [1] \"MS4A1\"    \"CD79A\"    \"MOCOS\"    \"VPREB3\"   \"MCL1\"     \"SEC14L1\" \n",
       " [7] \"PTP4A3\"   \"TRPM4\"    \"CPNE5\"    \"PPIC\"     \"KIAA0125\""
      ]
     },
     "metadata": {},
     "output_type": "display_data"
    }
   ],
   "source": [
    "intersect(geneset$symbol,ALAL$X)"
   ]
  },
  {
   "cell_type": "code",
   "execution_count": 12,
   "metadata": {},
   "outputs": [],
   "source": [
    "GO_df<-data.frame('Ven_sensitive_cell_lines_up',genesetup$symbol)\n",
    "colnames(GO_df)<-c('gs_exact_source','gene_symbol')\n",
    "GO_df<-as_tibble(GO_df)"
   ]
  },
  {
   "cell_type": "code",
   "execution_count": 13,
   "metadata": {},
   "outputs": [],
   "source": [
    "em <-GSEA(ge, TERM2GENE = GO_df,minGSSize = 1, pvalueCutoff = 0.99, verbose = F)"
   ]
  },
  {
   "cell_type": "code",
   "execution_count": 14,
   "metadata": {},
   "outputs": [
    {
     "data": {
      "text/html": [
       "'CD79A/MS4A1/VPREB3'"
      ],
      "text/latex": [
       "'CD79A/MS4A1/VPREB3'"
      ],
      "text/markdown": [
       "'CD79A/MS4A1/VPREB3'"
      ],
      "text/plain": [
       "[1] \"CD79A/MS4A1/VPREB3\""
      ]
     },
     "metadata": {},
     "output_type": "display_data"
    },
    {
     "data": {
      "text/html": [
       "0.151515151515152"
      ],
      "text/latex": [
       "0.151515151515152"
      ],
      "text/markdown": [
       "0.151515151515152"
      ],
      "text/plain": [
       "[1] 0.1515152"
      ]
     },
     "metadata": {},
     "output_type": "display_data"
    },
    {
     "data": {
      "image/png": "[encoded data removed]",
      "text/plain": [
       "plot without title"
      ]
     },
     "metadata": {
      "image/png": {
       "height": 420,
       "width": 420
      }
     },
     "output_type": "display_data"
    }
   ],
   "source": [
    "gseaplot2(em, geneSetID = 1, title = em$Description[1])\n",
    "em$core_enrichment\n",
    "em$pvalue"
   ]
  },
  {
   "cell_type": "code",
   "execution_count": 15,
   "metadata": {},
   "outputs": [
    {
     "data": {
      "text/html": [
       "<strong>null device:</strong> 1"
      ],
      "text/latex": [
       "\\textbf{null device:} 1"
      ],
      "text/markdown": [
       "**null device:** 1"
      ],
      "text/plain": [
       "null device \n",
       "          1 "
      ]
     },
     "metadata": {},
     "output_type": "display_data"
    }
   ],
   "source": [
    "ggsave('vensensitive.pdf',width=6,height=6)\n",
    "dev.off()"
   ]
  },
  {
   "cell_type": "code",
   "execution_count": 16,
   "metadata": {},
   "outputs": [
    {
     "data": {
      "text/plain": [
       "#\n",
       "# Gene Set Enrichment Analysis\n",
       "#\n",
       "#...@organism \t UNKNOWN \n",
       "#...@setType \t UNKNOWN \n",
       "#...@geneList \t Named num [1:560] 7.71 3.07 2.63 2.45 1.28 ...\n",
       " - attr(*, \"names\")= chr [1:560] \"JCHAIN\" \"CCND1\" \"FRZB\" \"RP5-887A10.1\" ...\n",
       "#...nPerm \t \n",
       "#...pvalues adjusted by 'BH' with cutoff <0.99 \n",
       "#...1 enriched terms found\n",
       "'data.frame':\t1 obs. of  11 variables:\n",
       " $ ID             : chr \"Ven_sensitive_cell_lines_up\"\n",
       " $ Description    : chr \"Ven_sensitive_cell_lines_up\"\n",
       " $ setSize        : int 4\n",
       " $ enrichmentScore: num 0.632\n",
       " $ NES            : num 1.4\n",
       " $ pvalue         : num 0.152\n",
       " $ p.adjust       : num 0.152\n",
       " $ qvalues        : logi NA\n",
       " $ rank           : int 68\n",
       " $ leading_edge   : chr \"tags=75%, list=12%, signal=66%\"\n",
       " $ core_enrichment: chr \"CD79A/MS4A1/VPREB3\"\n",
       "#...Citation\n",
       "  Guangchuang Yu, Li-Gen Wang, Yanyan Han and Qing-Yu He.\n",
       "  clusterProfiler: an R package for comparing biological themes among\n",
       "  gene clusters. OMICS: A Journal of Integrative Biology\n",
       "  2012, 16(5):284-287 \n"
      ]
     },
     "metadata": {},
     "output_type": "display_data"
    }
   ],
   "source": [
    "em"
   ]
  },
  {
   "cell_type": "code",
   "execution_count": 17,
   "metadata": {},
   "outputs": [],
   "source": [
    "GO_df<-data.frame('Ven_sensitive_cell_lines_down',genesetdw$symbol)\n",
    "colnames(GO_df)<-c('gs_exact_source','gene_symbol')\n",
    "GO_df<-as_tibble(GO_df)"
   ]
  },
  {
   "cell_type": "code",
   "execution_count": 18,
   "metadata": {},
   "outputs": [],
   "source": [
    "em2 <-GSEA(ge, TERM2GENE = GO_df,minGSSize = 1, pvalueCutoff = 0.99, verbose = F)"
   ]
  },
  {
   "cell_type": "code",
   "execution_count": 19,
   "metadata": {},
   "outputs": [
    {
     "data": {
      "text/html": [
       "'PPIC/TRPM4/SEC14L1/CPNE5/KIAA0125/PTP4A3'"
      ],
      "text/latex": [
       "'PPIC/TRPM4/SEC14L1/CPNE5/KIAA0125/PTP4A3'"
      ],
      "text/markdown": [
       "'PPIC/TRPM4/SEC14L1/CPNE5/KIAA0125/PTP4A3'"
      ],
      "text/plain": [
       "[1] \"PPIC/TRPM4/SEC14L1/CPNE5/KIAA0125/PTP4A3\""
      ]
     },
     "metadata": {},
     "output_type": "display_data"
    },
    {
     "data": {
      "text/html": [
       "0.037202380952381"
      ],
      "text/latex": [
       "0.037202380952381"
      ],
      "text/markdown": [
       "0.037202380952381"
      ],
      "text/plain": [
       "[1] 0.03720238"
      ]
     },
     "metadata": {},
     "output_type": "display_data"
    },
    {
     "data": {
      "image/png": "[encoded data removed]",
      "text/plain": [
       "plot without title"
      ]
     },
     "metadata": {
      "image/png": {
       "height": 420,
       "width": 420
      }
     },
     "output_type": "display_data"
    }
   ],
   "source": [
    "gseaplot2(em2, geneSetID = 1, title = em2$Description[1])\n",
    "em2$core_enrichment\n",
    "em2$pvalue"
   ]
  },
  {
   "cell_type": "code",
   "execution_count": 20,
   "metadata": {},
   "outputs": [
    {
     "data": {
      "text/html": [
       "<strong>null device:</strong> 1"
      ],
      "text/latex": [
       "\\textbf{null device:} 1"
      ],
      "text/markdown": [
       "**null device:** 1"
      ],
      "text/plain": [
       "null device \n",
       "          1 "
      ]
     },
     "metadata": {},
     "output_type": "display_data"
    }
   ],
   "source": [
    "ggsave('venresist.pdf',width=6,height=6)\n",
    "dev.off()"
   ]
  },
  {
   "cell_type": "code",
   "execution_count": 21,
   "metadata": {},
   "outputs": [
    {
     "data": {
      "text/plain": [
       "#\n",
       "# Gene Set Enrichment Analysis\n",
       "#\n",
       "#...@organism \t UNKNOWN \n",
       "#...@setType \t UNKNOWN \n",
       "#...@geneList \t Named num [1:560] 7.71 3.07 2.63 2.45 1.28 ...\n",
       " - attr(*, \"names\")= chr [1:560] \"JCHAIN\" \"CCND1\" \"FRZB\" \"RP5-887A10.1\" ...\n",
       "#...nPerm \t \n",
       "#...pvalues adjusted by 'BH' with cutoff <0.99 \n",
       "#...1 enriched terms found\n",
       "'data.frame':\t1 obs. of  11 variables:\n",
       " $ ID             : chr \"Ven_sensitive_cell_lines_down\"\n",
       " $ Description    : chr \"Ven_sensitive_cell_lines_down\"\n",
       " $ setSize        : int 7\n",
       " $ enrichmentScore: num -0.616\n",
       " $ NES            : num -1.58\n",
       " $ pvalue         : num 0.0372\n",
       " $ p.adjust       : num 0.0372\n",
       " $ qvalues        : logi NA\n",
       " $ rank           : num 9\n",
       " $ leading_edge   : chr \"tags=86%, list=2%, signal=85%\"\n",
       " $ core_enrichment: chr \"PPIC/TRPM4/SEC14L1/CPNE5/KIAA0125/PTP4A3\"\n",
       "#...Citation\n",
       "  Guangchuang Yu, Li-Gen Wang, Yanyan Han and Qing-Yu He.\n",
       "  clusterProfiler: an R package for comparing biological themes among\n",
       "  gene clusters. OMICS: A Journal of Integrative Biology\n",
       "  2012, 16(5):284-287 \n"
      ]
     },
     "metadata": {},
     "output_type": "display_data"
    }
   ],
   "source": [
    "em2"
   ]
  }
 ],
 "metadata": {
  "kernelspec": {
   "display_name": "R",
   "language": "R",
   "name": "ir"
  },
  "language_info": {
   "codemirror_mode": "r",
   "file_extension": ".r",
   "mimetype": "text/x-r-source",
   "name": "R",
   "pygments_lexer": "r",
   "version": "4.0.3"
  }
 },
 "nbformat": 4,
 "nbformat_minor": 2
}
