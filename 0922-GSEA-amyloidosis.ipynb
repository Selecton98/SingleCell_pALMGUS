{
 "cells": [
  {
   "cell_type": "code",
   "execution_count": 1,
   "metadata": {},
   "outputs": [
    {
     "name": "stderr",
     "output_type": "stream",
     "text": [
      "Warning message:\n",
      "“multiple methods tables found for ‘which’”\n",
      "Warning message:\n",
      "“multiple methods tables found for ‘which’”\n",
      "Loading required package: BiocGenerics\n",
      "\n",
      "Loading required package: parallel\n",
      "\n",
      "\n",
      "Attaching package: ‘BiocGenerics’\n",
      "\n",
      "\n",
      "The following objects are masked from ‘package:parallel’:\n",
      "\n",
      "    clusterApply, clusterApplyLB, clusterCall, clusterEvalQ,\n",
      "    clusterExport, clusterMap, parApply, parCapply, parLapply,\n",
      "    parLapplyLB, parRapply, parSapply, parSapplyLB\n",
      "\n",
      "\n",
      "The following objects are masked from ‘package:stats’:\n",
      "\n",
      "    IQR, mad, sd, var, xtabs\n",
      "\n",
      "\n",
      "The following objects are masked from ‘package:base’:\n",
      "\n",
      "    anyDuplicated, append, as.data.frame, basename, cbind, colnames,\n",
      "    dirname, do.call, duplicated, eval, evalq, Filter, Find, get, grep,\n",
      "    grepl, intersect, is.unsorted, lapply, Map, mapply, match, mget,\n",
      "    order, paste, pmax, pmax.int, pmin, pmin.int, Position, rank,\n",
      "    rbind, Reduce, rownames, sapply, setdiff, sort, table, tapply,\n",
      "    union, unique, unsplit, which.max, which.min\n",
      "\n",
      "\n",
      "Loading required package: Biobase\n",
      "\n",
      "Welcome to Bioconductor\n",
      "\n",
      "    Vignettes contain introductory material; view with\n",
      "    'browseVignettes()'. To cite Bioconductor, see\n",
      "    'citation(\"Biobase\")', and for packages 'citation(\"pkgname\")'.\n",
      "\n",
      "\n",
      "Loading required package: annotate\n",
      "\n",
      "Loading required package: AnnotationDbi\n",
      "\n",
      "Loading required package: stats4\n",
      "\n",
      "Loading required package: IRanges\n",
      "\n",
      "Loading required package: S4Vectors\n",
      "\n",
      "\n",
      "Attaching package: ‘S4Vectors’\n",
      "\n",
      "\n",
      "The following object is masked from ‘package:base’:\n",
      "\n",
      "    expand.grid\n",
      "\n",
      "\n",
      "Loading required package: XML\n",
      "\n",
      "Loading required package: graph\n",
      "\n",
      "\n",
      "Attaching package: ‘graph’\n",
      "\n",
      "\n",
      "The following object is masked from ‘package:XML’:\n",
      "\n",
      "    addNode\n",
      "\n",
      "\n",
      "\n",
      "\n",
      "\n",
      "\n",
      "\n",
      "Attaching package: ‘limma’\n",
      "\n",
      "\n",
      "The following object is masked from ‘package:BiocGenerics’:\n",
      "\n",
      "    plotMA\n",
      "\n",
      "\n"
     ]
    }
   ],
   "source": [
    "library(GSVA)\n",
    "library(GSEABase)\n",
    "library(msigdbr)\n",
    "library(org.Hs.eg.db)\n",
    "library(enrichplot)\n",
    "library(limma)"
   ]
  },
  {
   "cell_type": "code",
   "execution_count": 2,
   "metadata": {},
   "outputs": [
    {
     "name": "stderr",
     "output_type": "stream",
     "text": [
      "clusterProfiler v3.16.1  For help: https://guangchuangyu.github.io/software/clusterProfiler\n",
      "\n",
      "If you use clusterProfiler in published research, please cite:\n",
      "Guangchuang Yu, Li-Gen Wang, Yanyan Han, Qing-Yu He. clusterProfiler: an R package for comparing biological themes among gene clusters. OMICS: A Journal of Integrative Biology. 2012, 16(5):284-287.\n",
      "\n",
      "\n",
      "Attaching package: ‘clusterProfiler’\n",
      "\n",
      "\n",
      "The following object is masked from ‘package:AnnotationDbi’:\n",
      "\n",
      "    select\n",
      "\n",
      "\n",
      "The following object is masked from ‘package:IRanges’:\n",
      "\n",
      "    slice\n",
      "\n",
      "\n",
      "The following object is masked from ‘package:S4Vectors’:\n",
      "\n",
      "    rename\n",
      "\n",
      "\n",
      "The following object is masked from ‘package:stats’:\n",
      "\n",
      "    filter\n",
      "\n",
      "\n"
     ]
    }
   ],
   "source": [
    "library(clusterProfiler)"
   ]
  },
  {
   "cell_type": "code",
   "execution_count": 3,
   "metadata": {},
   "outputs": [
    {
     "data": {
      "text/html": [
       "<table class=\"dataframe\">\n",
       "<caption>A tibble: 20 × 2</caption>\n",
       "<thead>\n",
       "\t<tr><th scope=col>species_name</th><th scope=col>species_common_name</th></tr>\n",
       "\t<tr><th scope=col>&lt;chr&gt;</th><th scope=col>&lt;chr&gt;</th></tr>\n",
       "</thead>\n",
       "<tbody>\n",
       "\t<tr><td>Anolis carolinensis            </td><td>Carolina anole, green anole                                   </td></tr>\n",
       "\t<tr><td>Bos taurus                     </td><td>bovine, cattle, cow, dairy cow, domestic cattle, domestic cow </td></tr>\n",
       "\t<tr><td>Caenorhabditis elegans         </td><td>roundworm                                                     </td></tr>\n",
       "\t<tr><td>Canis lupus familiaris         </td><td>dog, dogs                                                     </td></tr>\n",
       "\t<tr><td>Danio rerio                    </td><td>leopard danio, zebra danio, zebra fish, zebrafish             </td></tr>\n",
       "\t<tr><td>Drosophila melanogaster        </td><td>fruit fly                                                     </td></tr>\n",
       "\t<tr><td>Equus caballus                 </td><td>domestic horse, equine, horse                                 </td></tr>\n",
       "\t<tr><td>Felis catus                    </td><td>cat, cats, domestic cat                                       </td></tr>\n",
       "\t<tr><td>Gallus gallus                  </td><td>bantam, chicken, chickens, Gallus domesticus                  </td></tr>\n",
       "\t<tr><td>Homo sapiens                   </td><td>human                                                         </td></tr>\n",
       "\t<tr><td>Macaca mulatta                 </td><td>rhesus macaque, rhesus macaques, Rhesus monkey, rhesus monkeys</td></tr>\n",
       "\t<tr><td>Monodelphis domestica          </td><td>gray short-tailed opossum                                     </td></tr>\n",
       "\t<tr><td>Mus musculus                   </td><td>house mouse, mouse                                            </td></tr>\n",
       "\t<tr><td>Ornithorhynchus anatinus       </td><td>duck-billed platypus, duckbill platypus, platypus             </td></tr>\n",
       "\t<tr><td>Pan troglodytes                </td><td>chimpanzee                                                    </td></tr>\n",
       "\t<tr><td>Rattus norvegicus              </td><td>brown rat, Norway rat, rat, rats                              </td></tr>\n",
       "\t<tr><td>Saccharomyces cerevisiae       </td><td>baker's yeast, brewer's yeast, S. cerevisiae                  </td></tr>\n",
       "\t<tr><td>Schizosaccharomyces pombe 972h-</td><td>NA                                                            </td></tr>\n",
       "\t<tr><td>Sus scrofa                     </td><td>pig, pigs, swine, wild boar                                   </td></tr>\n",
       "\t<tr><td>Xenopus tropicalis             </td><td>tropical clawed frog, western clawed frog                     </td></tr>\n",
       "</tbody>\n",
       "</table>\n"
      ],
      "text/latex": [
       "A tibble: 20 × 2\n",
       "\\begin{tabular}{ll}\n",
       " species\\_name & species\\_common\\_name\\\\\n",
       " <chr> & <chr>\\\\\n",
       "\\hline\n",
       "\t Anolis carolinensis             & Carolina anole, green anole                                   \\\\\n",
       "\t Bos taurus                      & bovine, cattle, cow, dairy cow, domestic cattle, domestic cow \\\\\n",
       "\t Caenorhabditis elegans          & roundworm                                                     \\\\\n",
       "\t Canis lupus familiaris          & dog, dogs                                                     \\\\\n",
       "\t Danio rerio                     & leopard danio, zebra danio, zebra fish, zebrafish             \\\\\n",
       "\t Drosophila melanogaster         & fruit fly                                                     \\\\\n",
       "\t Equus caballus                  & domestic horse, equine, horse                                 \\\\\n",
       "\t Felis catus                     & cat, cats, domestic cat                                       \\\\\n",
       "\t Gallus gallus                   & bantam, chicken, chickens, Gallus domesticus                  \\\\\n",
       "\t Homo sapiens                    & human                                                         \\\\\n",
       "\t Macaca mulatta                  & rhesus macaque, rhesus macaques, Rhesus monkey, rhesus monkeys\\\\\n",
       "\t Monodelphis domestica           & gray short-tailed opossum                                     \\\\\n",
       "\t Mus musculus                    & house mouse, mouse                                            \\\\\n",
       "\t Ornithorhynchus anatinus        & duck-billed platypus, duckbill platypus, platypus             \\\\\n",
       "\t Pan troglodytes                 & chimpanzee                                                    \\\\\n",
       "\t Rattus norvegicus               & brown rat, Norway rat, rat, rats                              \\\\\n",
       "\t Saccharomyces cerevisiae        & baker's yeast, brewer's yeast, S. cerevisiae                  \\\\\n",
       "\t Schizosaccharomyces pombe 972h- & NA                                                            \\\\\n",
       "\t Sus scrofa                      & pig, pigs, swine, wild boar                                   \\\\\n",
       "\t Xenopus tropicalis              & tropical clawed frog, western clawed frog                     \\\\\n",
       "\\end{tabular}\n"
      ],
      "text/markdown": [
       "\n",
       "A tibble: 20 × 2\n",
       "\n",
       "| species_name &lt;chr&gt; | species_common_name &lt;chr&gt; |\n",
       "|---|---|\n",
       "| Anolis carolinensis             | Carolina anole, green anole                                    |\n",
       "| Bos taurus                      | bovine, cattle, cow, dairy cow, domestic cattle, domestic cow  |\n",
       "| Caenorhabditis elegans          | roundworm                                                      |\n",
       "| Canis lupus familiaris          | dog, dogs                                                      |\n",
       "| Danio rerio                     | leopard danio, zebra danio, zebra fish, zebrafish              |\n",
       "| Drosophila melanogaster         | fruit fly                                                      |\n",
       "| Equus caballus                  | domestic horse, equine, horse                                  |\n",
       "| Felis catus                     | cat, cats, domestic cat                                        |\n",
       "| Gallus gallus                   | bantam, chicken, chickens, Gallus domesticus                   |\n",
       "| Homo sapiens                    | human                                                          |\n",
       "| Macaca mulatta                  | rhesus macaque, rhesus macaques, Rhesus monkey, rhesus monkeys |\n",
       "| Monodelphis domestica           | gray short-tailed opossum                                      |\n",
       "| Mus musculus                    | house mouse, mouse                                             |\n",
       "| Ornithorhynchus anatinus        | duck-billed platypus, duckbill platypus, platypus              |\n",
       "| Pan troglodytes                 | chimpanzee                                                     |\n",
       "| Rattus norvegicus               | brown rat, Norway rat, rat, rats                               |\n",
       "| Saccharomyces cerevisiae        | baker's yeast, brewer's yeast, S. cerevisiae                   |\n",
       "| Schizosaccharomyces pombe 972h- | NA                                                             |\n",
       "| Sus scrofa                      | pig, pigs, swine, wild boar                                    |\n",
       "| Xenopus tropicalis              | tropical clawed frog, western clawed frog                      |\n",
       "\n"
      ],
      "text/plain": [
       "   species_name                   \n",
       "1  Anolis carolinensis            \n",
       "2  Bos taurus                     \n",
       "3  Caenorhabditis elegans         \n",
       "4  Canis lupus familiaris         \n",
       "5  Danio rerio                    \n",
       "6  Drosophila melanogaster        \n",
       "7  Equus caballus                 \n",
       "8  Felis catus                    \n",
       "9  Gallus gallus                  \n",
       "10 Homo sapiens                   \n",
       "11 Macaca mulatta                 \n",
       "12 Monodelphis domestica          \n",
       "13 Mus musculus                   \n",
       "14 Ornithorhynchus anatinus       \n",
       "15 Pan troglodytes                \n",
       "16 Rattus norvegicus              \n",
       "17 Saccharomyces cerevisiae       \n",
       "18 Schizosaccharomyces pombe 972h-\n",
       "19 Sus scrofa                     \n",
       "20 Xenopus tropicalis             \n",
       "   species_common_name                                           \n",
       "1  Carolina anole, green anole                                   \n",
       "2  bovine, cattle, cow, dairy cow, domestic cattle, domestic cow \n",
       "3  roundworm                                                     \n",
       "4  dog, dogs                                                     \n",
       "5  leopard danio, zebra danio, zebra fish, zebrafish             \n",
       "6  fruit fly                                                     \n",
       "7  domestic horse, equine, horse                                 \n",
       "8  cat, cats, domestic cat                                       \n",
       "9  bantam, chicken, chickens, Gallus domesticus                  \n",
       "10 human                                                         \n",
       "11 rhesus macaque, rhesus macaques, Rhesus monkey, rhesus monkeys\n",
       "12 gray short-tailed opossum                                     \n",
       "13 house mouse, mouse                                            \n",
       "14 duck-billed platypus, duckbill platypus, platypus             \n",
       "15 chimpanzee                                                    \n",
       "16 brown rat, Norway rat, rat, rats                              \n",
       "17 baker's yeast, brewer's yeast, S. cerevisiae                  \n",
       "18 NA                                                            \n",
       "19 pig, pigs, swine, wild boar                                   \n",
       "20 tropical clawed frog, western clawed frog                     "
      ]
     },
     "metadata": {},
     "output_type": "display_data"
    }
   ],
   "source": [
    "msigdbr_species()"
   ]
  },
  {
   "cell_type": "code",
   "execution_count": 4,
   "metadata": {},
   "outputs": [],
   "source": [
    "ALNOR2<-read.csv('0915-merge.markersAL.csv')\n",
    "AL3NOR2<-read.csv('0915-merge.markersALhi.csv')"
   ]
  },
  {
   "cell_type": "code",
   "execution_count": 5,
   "metadata": {},
   "outputs": [],
   "source": [
    "ALNOR2<-ALNOR2[which(ALNOR2$cluster=='5'),]"
   ]
  },
  {
   "cell_type": "code",
   "execution_count": 6,
   "metadata": {},
   "outputs": [],
   "source": [
    "AL3NOR2<-AL3NOR2[which(AL3NOR2$cluster=='5'),]"
   ]
  },
  {
   "cell_type": "code",
   "execution_count": 7,
   "metadata": {},
   "outputs": [
    {
     "data": {
      "text/html": [
       "<table class=\"dataframe\">\n",
       "<caption>A data.frame: 68 × 8</caption>\n",
       "<thead>\n",
       "\t<tr><th></th><th scope=col>X</th><th scope=col>p_val</th><th scope=col>avg_log2FC</th><th scope=col>pct.1</th><th scope=col>pct.2</th><th scope=col>p_val_adj</th><th scope=col>cluster</th><th scope=col>gene</th></tr>\n",
       "\t<tr><th></th><th scope=col>&lt;chr&gt;</th><th scope=col>&lt;dbl&gt;</th><th scope=col>&lt;dbl&gt;</th><th scope=col>&lt;dbl&gt;</th><th scope=col>&lt;dbl&gt;</th><th scope=col>&lt;dbl&gt;</th><th scope=col>&lt;int&gt;</th><th scope=col>&lt;chr&gt;</th></tr>\n",
       "</thead>\n",
       "<tbody>\n",
       "\t<tr><th scope=row>315</th><td>C1QC    </td><td>1.240366e-95</td><td>0.7408135</td><td>0.251</td><td>0.013</td><td>2.588396e-91</td><td>5</td><td>C1QC    </td></tr>\n",
       "\t<tr><th scope=row>316</th><td>C1QB    </td><td>8.652645e-87</td><td>1.0287832</td><td>0.368</td><td>0.038</td><td>1.805634e-82</td><td>5</td><td>C1QB    </td></tr>\n",
       "\t<tr><th scope=row>317</th><td>AIF1    </td><td>2.754343e-73</td><td>1.2893174</td><td>0.515</td><td>0.097</td><td>5.747763e-69</td><td>5</td><td>AIF1    </td></tr>\n",
       "\t<tr><th scope=row>318</th><td>TMSB4X  </td><td>1.169791e-72</td><td>2.7167296</td><td>0.947</td><td>0.617</td><td>2.441119e-68</td><td>5</td><td>TMSB4X  </td></tr>\n",
       "\t<tr><th scope=row>319</th><td>C1QA    </td><td>1.102850e-61</td><td>0.9484391</td><td>0.333</td><td>0.045</td><td>2.301428e-57</td><td>5</td><td>C1QA    </td></tr>\n",
       "\t<tr><th scope=row>320</th><td>APOC1   </td><td>1.051556e-60</td><td>1.1003647</td><td>0.421</td><td>0.076</td><td>2.194387e-56</td><td>5</td><td>APOC1   </td></tr>\n",
       "\t<tr><th scope=row>321</th><td>TYROBP  </td><td>3.186123e-58</td><td>1.0541236</td><td>0.456</td><td>0.092</td><td>6.648801e-54</td><td>5</td><td>TYROBP  </td></tr>\n",
       "\t<tr><th scope=row>322</th><td>HLA-DPB1</td><td>7.433601e-49</td><td>1.2490018</td><td>0.316</td><td>0.051</td><td>1.551244e-44</td><td>5</td><td>HLA-DPB1</td></tr>\n",
       "\t<tr><th scope=row>323</th><td>HLA-DRA </td><td>7.135931e-47</td><td>1.1198692</td><td>0.374</td><td>0.075</td><td>1.489126e-42</td><td>5</td><td>HLA-DRA </td></tr>\n",
       "\t<tr><th scope=row>324</th><td>FTL     </td><td>6.102883e-45</td><td>1.4783565</td><td>1.000</td><td>0.983</td><td>1.273550e-40</td><td>5</td><td>FTL     </td></tr>\n",
       "\t<tr><th scope=row>325</th><td>APOE    </td><td>1.410970e-40</td><td>1.1650301</td><td>0.339</td><td>0.071</td><td>2.944412e-36</td><td>5</td><td>APOE    </td></tr>\n",
       "\t<tr><th scope=row>326</th><td>HLA-DPA1</td><td>1.210763e-39</td><td>0.8208906</td><td>0.263</td><td>0.043</td><td>2.526620e-35</td><td>5</td><td>HLA-DPA1</td></tr>\n",
       "\t<tr><th scope=row>327</th><td>IFITM3  </td><td>5.641508e-37</td><td>0.7950018</td><td>0.257</td><td>0.044</td><td>1.177270e-32</td><td>5</td><td>IFITM3  </td></tr>\n",
       "\t<tr><th scope=row>328</th><td>HMOX1   </td><td>9.876791e-36</td><td>0.7254934</td><td>0.287</td><td>0.056</td><td>2.061089e-31</td><td>5</td><td>HMOX1   </td></tr>\n",
       "\t<tr><th scope=row>329</th><td>FCER1G  </td><td>4.654801e-35</td><td>0.6166297</td><td>0.281</td><td>0.054</td><td>9.713639e-31</td><td>5</td><td>FCER1G  </td></tr>\n",
       "\t<tr><th scope=row>330</th><td>FTH1    </td><td>4.229327e-33</td><td>1.4400408</td><td>0.947</td><td>0.884</td><td>8.825760e-29</td><td>5</td><td>FTH1    </td></tr>\n",
       "\t<tr><th scope=row>331</th><td>LST1    </td><td>1.832611e-27</td><td>0.6572420</td><td>0.281</td><td>0.068</td><td>3.824292e-23</td><td>5</td><td>LST1    </td></tr>\n",
       "\t<tr><th scope=row>332</th><td>FABP4   </td><td>1.004604e-25</td><td>1.0621546</td><td>0.304</td><td>0.083</td><td>2.096407e-21</td><td>5</td><td>FABP4   </td></tr>\n",
       "\t<tr><th scope=row>333</th><td>TMSB10  </td><td>1.195497e-22</td><td>0.8496872</td><td>0.936</td><td>0.853</td><td>2.494764e-18</td><td>5</td><td>TMSB10  </td></tr>\n",
       "\t<tr><th scope=row>334</th><td>GLUL    </td><td>2.568681e-18</td><td>0.6039321</td><td>0.327</td><td>0.121</td><td>5.360324e-14</td><td>5</td><td>GLUL    </td></tr>\n",
       "\t<tr><th scope=row>335</th><td>ACTB    </td><td>6.937551e-15</td><td>0.8325458</td><td>0.918</td><td>0.814</td><td>1.447728e-10</td><td>5</td><td>ACTB    </td></tr>\n",
       "\t<tr><th scope=row>336</th><td>SEPP1   </td><td>1.082572e-13</td><td>0.7303874</td><td>0.497</td><td>0.280</td><td>2.259112e-09</td><td>5</td><td>SEPP1   </td></tr>\n",
       "\t<tr><th scope=row>337</th><td>BLVRB   </td><td>1.461362e-13</td><td>0.7688538</td><td>0.462</td><td>0.272</td><td>3.049571e-09</td><td>5</td><td>BLVRB   </td></tr>\n",
       "\t<tr><th scope=row>338</th><td>CST3    </td><td>1.268507e-11</td><td>0.8246857</td><td>0.667</td><td>0.501</td><td>2.647121e-07</td><td>5</td><td>CST3    </td></tr>\n",
       "\t<tr><th scope=row>339</th><td>LYZ     </td><td>1.485919e-11</td><td>2.0317348</td><td>0.333</td><td>0.165</td><td>3.100816e-07</td><td>5</td><td>LYZ     </td></tr>\n",
       "\t<tr><th scope=row>340</th><td>S100A8  </td><td>1.627366e-11</td><td>1.5281634</td><td>0.474</td><td>0.283</td><td>3.395987e-07</td><td>5</td><td>S100A8  </td></tr>\n",
       "\t<tr><th scope=row>341</th><td>S100A9  </td><td>6.232438e-10</td><td>1.7708987</td><td>0.456</td><td>0.286</td><td>1.300585e-05</td><td>5</td><td>S100A9  </td></tr>\n",
       "\t<tr><th scope=row>342</th><td>GPX1    </td><td>1.991488e-09</td><td>0.6922675</td><td>0.550</td><td>0.424</td><td>4.155838e-05</td><td>5</td><td>GPX1    </td></tr>\n",
       "\t<tr><th scope=row>343</th><td>SAT1    </td><td>1.029652e-08</td><td>0.6848842</td><td>0.526</td><td>0.408</td><td>2.148678e-04</td><td>5</td><td>SAT1    </td></tr>\n",
       "\t<tr><th scope=row>344</th><td>HBB     </td><td>1.996964e-07</td><td>0.6560534</td><td>0.871</td><td>0.868</td><td>4.167264e-03</td><td>5</td><td>HBB     </td></tr>\n",
       "\t<tr><th scope=row>⋮</th><td>⋮</td><td>⋮</td><td>⋮</td><td>⋮</td><td>⋮</td><td>⋮</td><td>⋮</td><td>⋮</td></tr>\n",
       "\t<tr><th scope=row>353</th><td>CALM2   </td><td>4.369228e-05</td><td>0.4192070</td><td>0.643</td><td>0.622</td><td>0.9117705</td><td>5</td><td>CALM2   </td></tr>\n",
       "\t<tr><th scope=row>354</th><td>TPT11   </td><td>6.351710e-05</td><td>0.4785913</td><td>0.848</td><td>0.847</td><td>1.0000000</td><td>5</td><td>TPT1    </td></tr>\n",
       "\t<tr><th scope=row>355</th><td>FAU1    </td><td>7.043213e-05</td><td>0.2881649</td><td>0.947</td><td>0.929</td><td>1.0000000</td><td>5</td><td>FAU     </td></tr>\n",
       "\t<tr><th scope=row>356</th><td>GAPDH1  </td><td>7.319054e-05</td><td>0.4339086</td><td>0.690</td><td>0.626</td><td>1.0000000</td><td>5</td><td>GAPDH   </td></tr>\n",
       "\t<tr><th scope=row>357</th><td>IGLV1-44</td><td>8.984876e-05</td><td>0.4359946</td><td>0.474</td><td>0.303</td><td>1.0000000</td><td>5</td><td>IGLV1-44</td></tr>\n",
       "\t<tr><th scope=row>358</th><td>S100A11 </td><td>1.310774e-04</td><td>0.4408612</td><td>0.526</td><td>0.474</td><td>1.0000000</td><td>5</td><td>S100A11 </td></tr>\n",
       "\t<tr><th scope=row>359</th><td>IGLC21  </td><td>1.659188e-04</td><td>0.5956309</td><td>0.994</td><td>1.000</td><td>1.0000000</td><td>5</td><td>IGLC2   </td></tr>\n",
       "\t<tr><th scope=row>360</th><td>TUBA1B  </td><td>1.738659e-04</td><td>0.5222780</td><td>0.474</td><td>0.413</td><td>1.0000000</td><td>5</td><td>TUBA1B  </td></tr>\n",
       "\t<tr><th scope=row>361</th><td>C6orf48 </td><td>2.407541e-04</td><td>0.3902082</td><td>0.363</td><td>0.273</td><td>1.0000000</td><td>5</td><td>C6orf48 </td></tr>\n",
       "\t<tr><th scope=row>362</th><td>H3F3A1  </td><td>3.067211e-04</td><td>0.2711780</td><td>0.865</td><td>0.821</td><td>1.0000000</td><td>5</td><td>H3F3A   </td></tr>\n",
       "\t<tr><th scope=row>363</th><td>PFDN51  </td><td>4.542976e-04</td><td>0.3438139</td><td>0.819</td><td>0.802</td><td>1.0000000</td><td>5</td><td>PFDN5   </td></tr>\n",
       "\t<tr><th scope=row>364</th><td>PPIA1   </td><td>4.601628e-04</td><td>0.4376636</td><td>0.667</td><td>0.634</td><td>1.0000000</td><td>5</td><td>PPIA    </td></tr>\n",
       "\t<tr><th scope=row>365</th><td>VAMP8   </td><td>4.762169e-04</td><td>0.3709519</td><td>0.456</td><td>0.390</td><td>1.0000000</td><td>5</td><td>VAMP8   </td></tr>\n",
       "\t<tr><th scope=row>366</th><td>LY96    </td><td>6.771685e-04</td><td>0.4119721</td><td>0.556</td><td>0.535</td><td>1.0000000</td><td>5</td><td>LY96    </td></tr>\n",
       "\t<tr><th scope=row>367</th><td>IGHA12  </td><td>9.534176e-04</td><td>1.7472440</td><td>0.977</td><td>0.977</td><td>1.0000000</td><td>5</td><td>IGHA1   </td></tr>\n",
       "\t<tr><th scope=row>368</th><td>EIF3E   </td><td>1.202853e-03</td><td>0.2978915</td><td>0.626</td><td>0.607</td><td>1.0000000</td><td>5</td><td>EIF3E   </td></tr>\n",
       "\t<tr><th scope=row>369</th><td>IGHG41  </td><td>1.246897e-03</td><td>0.6705861</td><td>0.982</td><td>0.976</td><td>1.0000000</td><td>5</td><td>IGHG4   </td></tr>\n",
       "\t<tr><th scope=row>370</th><td>PRDX1   </td><td>1.249874e-03</td><td>0.3832556</td><td>0.567</td><td>0.532</td><td>1.0000000</td><td>5</td><td>PRDX1   </td></tr>\n",
       "\t<tr><th scope=row>371</th><td>VIM1    </td><td>2.703313e-03</td><td>0.3017147</td><td>0.673</td><td>0.619</td><td>1.0000000</td><td>5</td><td>VIM     </td></tr>\n",
       "\t<tr><th scope=row>372</th><td>GMFG    </td><td>3.149591e-03</td><td>0.2848733</td><td>0.351</td><td>0.275</td><td>1.0000000</td><td>5</td><td>GMFG    </td></tr>\n",
       "\t<tr><th scope=row>373</th><td>CD741   </td><td>3.375180e-03</td><td>0.4509837</td><td>0.807</td><td>0.813</td><td>1.0000000</td><td>5</td><td>CD74    </td></tr>\n",
       "\t<tr><th scope=row>374</th><td>ATP5J   </td><td>4.523817e-03</td><td>0.2966953</td><td>0.632</td><td>0.600</td><td>1.0000000</td><td>5</td><td>ATP5J   </td></tr>\n",
       "\t<tr><th scope=row>375</th><td>GNB2L11 </td><td>4.620001e-03</td><td>0.2647300</td><td>0.801</td><td>0.800</td><td>1.0000000</td><td>5</td><td>GNB2L1  </td></tr>\n",
       "\t<tr><th scope=row>376</th><td>TOMM71  </td><td>5.262597e-03</td><td>0.2900817</td><td>0.784</td><td>0.782</td><td>1.0000000</td><td>5</td><td>TOMM7   </td></tr>\n",
       "\t<tr><th scope=row>377</th><td>CTSB    </td><td>5.682707e-03</td><td>0.3507602</td><td>0.257</td><td>0.197</td><td>1.0000000</td><td>5</td><td>CTSB    </td></tr>\n",
       "\t<tr><th scope=row>378</th><td>NACA1   </td><td>6.234539e-03</td><td>0.2603884</td><td>0.871</td><td>0.828</td><td>1.0000000</td><td>5</td><td>NACA    </td></tr>\n",
       "\t<tr><th scope=row>379</th><td>YBX11   </td><td>7.222252e-03</td><td>0.2513576</td><td>0.620</td><td>0.587</td><td>1.0000000</td><td>5</td><td>YBX1    </td></tr>\n",
       "\t<tr><th scope=row>380</th><td>PSMB3   </td><td>8.346022e-03</td><td>0.2916320</td><td>0.474</td><td>0.439</td><td>1.0000000</td><td>5</td><td>PSMB3   </td></tr>\n",
       "\t<tr><th scope=row>381</th><td>NPC2    </td><td>8.676398e-03</td><td>0.3007975</td><td>0.789</td><td>0.797</td><td>1.0000000</td><td>5</td><td>NPC2    </td></tr>\n",
       "\t<tr><th scope=row>382</th><td>AP2S1   </td><td>8.866693e-03</td><td>0.3480758</td><td>0.339</td><td>0.291</td><td>1.0000000</td><td>5</td><td>AP2S1   </td></tr>\n",
       "</tbody>\n",
       "</table>\n"
      ],
      "text/latex": [
       "A data.frame: 68 × 8\n",
       "\\begin{tabular}{r|llllllll}\n",
       "  & X & p\\_val & avg\\_log2FC & pct.1 & pct.2 & p\\_val\\_adj & cluster & gene\\\\\n",
       "  & <chr> & <dbl> & <dbl> & <dbl> & <dbl> & <dbl> & <int> & <chr>\\\\\n",
       "\\hline\n",
       "\t315 & C1QC     & 1.240366e-95 & 0.7408135 & 0.251 & 0.013 & 2.588396e-91 & 5 & C1QC    \\\\\n",
       "\t316 & C1QB     & 8.652645e-87 & 1.0287832 & 0.368 & 0.038 & 1.805634e-82 & 5 & C1QB    \\\\\n",
       "\t317 & AIF1     & 2.754343e-73 & 1.2893174 & 0.515 & 0.097 & 5.747763e-69 & 5 & AIF1    \\\\\n",
       "\t318 & TMSB4X   & 1.169791e-72 & 2.7167296 & 0.947 & 0.617 & 2.441119e-68 & 5 & TMSB4X  \\\\\n",
       "\t319 & C1QA     & 1.102850e-61 & 0.9484391 & 0.333 & 0.045 & 2.301428e-57 & 5 & C1QA    \\\\\n",
       "\t320 & APOC1    & 1.051556e-60 & 1.1003647 & 0.421 & 0.076 & 2.194387e-56 & 5 & APOC1   \\\\\n",
       "\t321 & TYROBP   & 3.186123e-58 & 1.0541236 & 0.456 & 0.092 & 6.648801e-54 & 5 & TYROBP  \\\\\n",
       "\t322 & HLA-DPB1 & 7.433601e-49 & 1.2490018 & 0.316 & 0.051 & 1.551244e-44 & 5 & HLA-DPB1\\\\\n",
       "\t323 & HLA-DRA  & 7.135931e-47 & 1.1198692 & 0.374 & 0.075 & 1.489126e-42 & 5 & HLA-DRA \\\\\n",
       "\t324 & FTL      & 6.102883e-45 & 1.4783565 & 1.000 & 0.983 & 1.273550e-40 & 5 & FTL     \\\\\n",
       "\t325 & APOE     & 1.410970e-40 & 1.1650301 & 0.339 & 0.071 & 2.944412e-36 & 5 & APOE    \\\\\n",
       "\t326 & HLA-DPA1 & 1.210763e-39 & 0.8208906 & 0.263 & 0.043 & 2.526620e-35 & 5 & HLA-DPA1\\\\\n",
       "\t327 & IFITM3   & 5.641508e-37 & 0.7950018 & 0.257 & 0.044 & 1.177270e-32 & 5 & IFITM3  \\\\\n",
       "\t328 & HMOX1    & 9.876791e-36 & 0.7254934 & 0.287 & 0.056 & 2.061089e-31 & 5 & HMOX1   \\\\\n",
       "\t329 & FCER1G   & 4.654801e-35 & 0.6166297 & 0.281 & 0.054 & 9.713639e-31 & 5 & FCER1G  \\\\\n",
       "\t330 & FTH1     & 4.229327e-33 & 1.4400408 & 0.947 & 0.884 & 8.825760e-29 & 5 & FTH1    \\\\\n",
       "\t331 & LST1     & 1.832611e-27 & 0.6572420 & 0.281 & 0.068 & 3.824292e-23 & 5 & LST1    \\\\\n",
       "\t332 & FABP4    & 1.004604e-25 & 1.0621546 & 0.304 & 0.083 & 2.096407e-21 & 5 & FABP4   \\\\\n",
       "\t333 & TMSB10   & 1.195497e-22 & 0.8496872 & 0.936 & 0.853 & 2.494764e-18 & 5 & TMSB10  \\\\\n",
       "\t334 & GLUL     & 2.568681e-18 & 0.6039321 & 0.327 & 0.121 & 5.360324e-14 & 5 & GLUL    \\\\\n",
       "\t335 & ACTB     & 6.937551e-15 & 0.8325458 & 0.918 & 0.814 & 1.447728e-10 & 5 & ACTB    \\\\\n",
       "\t336 & SEPP1    & 1.082572e-13 & 0.7303874 & 0.497 & 0.280 & 2.259112e-09 & 5 & SEPP1   \\\\\n",
       "\t337 & BLVRB    & 1.461362e-13 & 0.7688538 & 0.462 & 0.272 & 3.049571e-09 & 5 & BLVRB   \\\\\n",
       "\t338 & CST3     & 1.268507e-11 & 0.8246857 & 0.667 & 0.501 & 2.647121e-07 & 5 & CST3    \\\\\n",
       "\t339 & LYZ      & 1.485919e-11 & 2.0317348 & 0.333 & 0.165 & 3.100816e-07 & 5 & LYZ     \\\\\n",
       "\t340 & S100A8   & 1.627366e-11 & 1.5281634 & 0.474 & 0.283 & 3.395987e-07 & 5 & S100A8  \\\\\n",
       "\t341 & S100A9   & 6.232438e-10 & 1.7708987 & 0.456 & 0.286 & 1.300585e-05 & 5 & S100A9  \\\\\n",
       "\t342 & GPX1     & 1.991488e-09 & 0.6922675 & 0.550 & 0.424 & 4.155838e-05 & 5 & GPX1    \\\\\n",
       "\t343 & SAT1     & 1.029652e-08 & 0.6848842 & 0.526 & 0.408 & 2.148678e-04 & 5 & SAT1    \\\\\n",
       "\t344 & HBB      & 1.996964e-07 & 0.6560534 & 0.871 & 0.868 & 4.167264e-03 & 5 & HBB     \\\\\n",
       "\t⋮ & ⋮ & ⋮ & ⋮ & ⋮ & ⋮ & ⋮ & ⋮ & ⋮\\\\\n",
       "\t353 & CALM2    & 4.369228e-05 & 0.4192070 & 0.643 & 0.622 & 0.9117705 & 5 & CALM2   \\\\\n",
       "\t354 & TPT11    & 6.351710e-05 & 0.4785913 & 0.848 & 0.847 & 1.0000000 & 5 & TPT1    \\\\\n",
       "\t355 & FAU1     & 7.043213e-05 & 0.2881649 & 0.947 & 0.929 & 1.0000000 & 5 & FAU     \\\\\n",
       "\t356 & GAPDH1   & 7.319054e-05 & 0.4339086 & 0.690 & 0.626 & 1.0000000 & 5 & GAPDH   \\\\\n",
       "\t357 & IGLV1-44 & 8.984876e-05 & 0.4359946 & 0.474 & 0.303 & 1.0000000 & 5 & IGLV1-44\\\\\n",
       "\t358 & S100A11  & 1.310774e-04 & 0.4408612 & 0.526 & 0.474 & 1.0000000 & 5 & S100A11 \\\\\n",
       "\t359 & IGLC21   & 1.659188e-04 & 0.5956309 & 0.994 & 1.000 & 1.0000000 & 5 & IGLC2   \\\\\n",
       "\t360 & TUBA1B   & 1.738659e-04 & 0.5222780 & 0.474 & 0.413 & 1.0000000 & 5 & TUBA1B  \\\\\n",
       "\t361 & C6orf48  & 2.407541e-04 & 0.3902082 & 0.363 & 0.273 & 1.0000000 & 5 & C6orf48 \\\\\n",
       "\t362 & H3F3A1   & 3.067211e-04 & 0.2711780 & 0.865 & 0.821 & 1.0000000 & 5 & H3F3A   \\\\\n",
       "\t363 & PFDN51   & 4.542976e-04 & 0.3438139 & 0.819 & 0.802 & 1.0000000 & 5 & PFDN5   \\\\\n",
       "\t364 & PPIA1    & 4.601628e-04 & 0.4376636 & 0.667 & 0.634 & 1.0000000 & 5 & PPIA    \\\\\n",
       "\t365 & VAMP8    & 4.762169e-04 & 0.3709519 & 0.456 & 0.390 & 1.0000000 & 5 & VAMP8   \\\\\n",
       "\t366 & LY96     & 6.771685e-04 & 0.4119721 & 0.556 & 0.535 & 1.0000000 & 5 & LY96    \\\\\n",
       "\t367 & IGHA12   & 9.534176e-04 & 1.7472440 & 0.977 & 0.977 & 1.0000000 & 5 & IGHA1   \\\\\n",
       "\t368 & EIF3E    & 1.202853e-03 & 0.2978915 & 0.626 & 0.607 & 1.0000000 & 5 & EIF3E   \\\\\n",
       "\t369 & IGHG41   & 1.246897e-03 & 0.6705861 & 0.982 & 0.976 & 1.0000000 & 5 & IGHG4   \\\\\n",
       "\t370 & PRDX1    & 1.249874e-03 & 0.3832556 & 0.567 & 0.532 & 1.0000000 & 5 & PRDX1   \\\\\n",
       "\t371 & VIM1     & 2.703313e-03 & 0.3017147 & 0.673 & 0.619 & 1.0000000 & 5 & VIM     \\\\\n",
       "\t372 & GMFG     & 3.149591e-03 & 0.2848733 & 0.351 & 0.275 & 1.0000000 & 5 & GMFG    \\\\\n",
       "\t373 & CD741    & 3.375180e-03 & 0.4509837 & 0.807 & 0.813 & 1.0000000 & 5 & CD74    \\\\\n",
       "\t374 & ATP5J    & 4.523817e-03 & 0.2966953 & 0.632 & 0.600 & 1.0000000 & 5 & ATP5J   \\\\\n",
       "\t375 & GNB2L11  & 4.620001e-03 & 0.2647300 & 0.801 & 0.800 & 1.0000000 & 5 & GNB2L1  \\\\\n",
       "\t376 & TOMM71   & 5.262597e-03 & 0.2900817 & 0.784 & 0.782 & 1.0000000 & 5 & TOMM7   \\\\\n",
       "\t377 & CTSB     & 5.682707e-03 & 0.3507602 & 0.257 & 0.197 & 1.0000000 & 5 & CTSB    \\\\\n",
       "\t378 & NACA1    & 6.234539e-03 & 0.2603884 & 0.871 & 0.828 & 1.0000000 & 5 & NACA    \\\\\n",
       "\t379 & YBX11    & 7.222252e-03 & 0.2513576 & 0.620 & 0.587 & 1.0000000 & 5 & YBX1    \\\\\n",
       "\t380 & PSMB3    & 8.346022e-03 & 0.2916320 & 0.474 & 0.439 & 1.0000000 & 5 & PSMB3   \\\\\n",
       "\t381 & NPC2     & 8.676398e-03 & 0.3007975 & 0.789 & 0.797 & 1.0000000 & 5 & NPC2    \\\\\n",
       "\t382 & AP2S1    & 8.866693e-03 & 0.3480758 & 0.339 & 0.291 & 1.0000000 & 5 & AP2S1   \\\\\n",
       "\\end{tabular}\n"
      ],
      "text/markdown": [
       "\n",
       "A data.frame: 68 × 8\n",
       "\n",
       "| <!--/--> | X &lt;chr&gt; | p_val &lt;dbl&gt; | avg_log2FC &lt;dbl&gt; | pct.1 &lt;dbl&gt; | pct.2 &lt;dbl&gt; | p_val_adj &lt;dbl&gt; | cluster &lt;int&gt; | gene &lt;chr&gt; |\n",
       "|---|---|---|---|---|---|---|---|---|\n",
       "| 315 | C1QC     | 1.240366e-95 | 0.7408135 | 0.251 | 0.013 | 2.588396e-91 | 5 | C1QC     |\n",
       "| 316 | C1QB     | 8.652645e-87 | 1.0287832 | 0.368 | 0.038 | 1.805634e-82 | 5 | C1QB     |\n",
       "| 317 | AIF1     | 2.754343e-73 | 1.2893174 | 0.515 | 0.097 | 5.747763e-69 | 5 | AIF1     |\n",
       "| 318 | TMSB4X   | 1.169791e-72 | 2.7167296 | 0.947 | 0.617 | 2.441119e-68 | 5 | TMSB4X   |\n",
       "| 319 | C1QA     | 1.102850e-61 | 0.9484391 | 0.333 | 0.045 | 2.301428e-57 | 5 | C1QA     |\n",
       "| 320 | APOC1    | 1.051556e-60 | 1.1003647 | 0.421 | 0.076 | 2.194387e-56 | 5 | APOC1    |\n",
       "| 321 | TYROBP   | 3.186123e-58 | 1.0541236 | 0.456 | 0.092 | 6.648801e-54 | 5 | TYROBP   |\n",
       "| 322 | HLA-DPB1 | 7.433601e-49 | 1.2490018 | 0.316 | 0.051 | 1.551244e-44 | 5 | HLA-DPB1 |\n",
       "| 323 | HLA-DRA  | 7.135931e-47 | 1.1198692 | 0.374 | 0.075 | 1.489126e-42 | 5 | HLA-DRA  |\n",
       "| 324 | FTL      | 6.102883e-45 | 1.4783565 | 1.000 | 0.983 | 1.273550e-40 | 5 | FTL      |\n",
       "| 325 | APOE     | 1.410970e-40 | 1.1650301 | 0.339 | 0.071 | 2.944412e-36 | 5 | APOE     |\n",
       "| 326 | HLA-DPA1 | 1.210763e-39 | 0.8208906 | 0.263 | 0.043 | 2.526620e-35 | 5 | HLA-DPA1 |\n",
       "| 327 | IFITM3   | 5.641508e-37 | 0.7950018 | 0.257 | 0.044 | 1.177270e-32 | 5 | IFITM3   |\n",
       "| 328 | HMOX1    | 9.876791e-36 | 0.7254934 | 0.287 | 0.056 | 2.061089e-31 | 5 | HMOX1    |\n",
       "| 329 | FCER1G   | 4.654801e-35 | 0.6166297 | 0.281 | 0.054 | 9.713639e-31 | 5 | FCER1G   |\n",
       "| 330 | FTH1     | 4.229327e-33 | 1.4400408 | 0.947 | 0.884 | 8.825760e-29 | 5 | FTH1     |\n",
       "| 331 | LST1     | 1.832611e-27 | 0.6572420 | 0.281 | 0.068 | 3.824292e-23 | 5 | LST1     |\n",
       "| 332 | FABP4    | 1.004604e-25 | 1.0621546 | 0.304 | 0.083 | 2.096407e-21 | 5 | FABP4    |\n",
       "| 333 | TMSB10   | 1.195497e-22 | 0.8496872 | 0.936 | 0.853 | 2.494764e-18 | 5 | TMSB10   |\n",
       "| 334 | GLUL     | 2.568681e-18 | 0.6039321 | 0.327 | 0.121 | 5.360324e-14 | 5 | GLUL     |\n",
       "| 335 | ACTB     | 6.937551e-15 | 0.8325458 | 0.918 | 0.814 | 1.447728e-10 | 5 | ACTB     |\n",
       "| 336 | SEPP1    | 1.082572e-13 | 0.7303874 | 0.497 | 0.280 | 2.259112e-09 | 5 | SEPP1    |\n",
       "| 337 | BLVRB    | 1.461362e-13 | 0.7688538 | 0.462 | 0.272 | 3.049571e-09 | 5 | BLVRB    |\n",
       "| 338 | CST3     | 1.268507e-11 | 0.8246857 | 0.667 | 0.501 | 2.647121e-07 | 5 | CST3     |\n",
       "| 339 | LYZ      | 1.485919e-11 | 2.0317348 | 0.333 | 0.165 | 3.100816e-07 | 5 | LYZ      |\n",
       "| 340 | S100A8   | 1.627366e-11 | 1.5281634 | 0.474 | 0.283 | 3.395987e-07 | 5 | S100A8   |\n",
       "| 341 | S100A9   | 6.232438e-10 | 1.7708987 | 0.456 | 0.286 | 1.300585e-05 | 5 | S100A9   |\n",
       "| 342 | GPX1     | 1.991488e-09 | 0.6922675 | 0.550 | 0.424 | 4.155838e-05 | 5 | GPX1     |\n",
       "| 343 | SAT1     | 1.029652e-08 | 0.6848842 | 0.526 | 0.408 | 2.148678e-04 | 5 | SAT1     |\n",
       "| 344 | HBB      | 1.996964e-07 | 0.6560534 | 0.871 | 0.868 | 4.167264e-03 | 5 | HBB      |\n",
       "| ⋮ | ⋮ | ⋮ | ⋮ | ⋮ | ⋮ | ⋮ | ⋮ | ⋮ |\n",
       "| 353 | CALM2    | 4.369228e-05 | 0.4192070 | 0.643 | 0.622 | 0.9117705 | 5 | CALM2    |\n",
       "| 354 | TPT11    | 6.351710e-05 | 0.4785913 | 0.848 | 0.847 | 1.0000000 | 5 | TPT1     |\n",
       "| 355 | FAU1     | 7.043213e-05 | 0.2881649 | 0.947 | 0.929 | 1.0000000 | 5 | FAU      |\n",
       "| 356 | GAPDH1   | 7.319054e-05 | 0.4339086 | 0.690 | 0.626 | 1.0000000 | 5 | GAPDH    |\n",
       "| 357 | IGLV1-44 | 8.984876e-05 | 0.4359946 | 0.474 | 0.303 | 1.0000000 | 5 | IGLV1-44 |\n",
       "| 358 | S100A11  | 1.310774e-04 | 0.4408612 | 0.526 | 0.474 | 1.0000000 | 5 | S100A11  |\n",
       "| 359 | IGLC21   | 1.659188e-04 | 0.5956309 | 0.994 | 1.000 | 1.0000000 | 5 | IGLC2    |\n",
       "| 360 | TUBA1B   | 1.738659e-04 | 0.5222780 | 0.474 | 0.413 | 1.0000000 | 5 | TUBA1B   |\n",
       "| 361 | C6orf48  | 2.407541e-04 | 0.3902082 | 0.363 | 0.273 | 1.0000000 | 5 | C6orf48  |\n",
       "| 362 | H3F3A1   | 3.067211e-04 | 0.2711780 | 0.865 | 0.821 | 1.0000000 | 5 | H3F3A    |\n",
       "| 363 | PFDN51   | 4.542976e-04 | 0.3438139 | 0.819 | 0.802 | 1.0000000 | 5 | PFDN5    |\n",
       "| 364 | PPIA1    | 4.601628e-04 | 0.4376636 | 0.667 | 0.634 | 1.0000000 | 5 | PPIA     |\n",
       "| 365 | VAMP8    | 4.762169e-04 | 0.3709519 | 0.456 | 0.390 | 1.0000000 | 5 | VAMP8    |\n",
       "| 366 | LY96     | 6.771685e-04 | 0.4119721 | 0.556 | 0.535 | 1.0000000 | 5 | LY96     |\n",
       "| 367 | IGHA12   | 9.534176e-04 | 1.7472440 | 0.977 | 0.977 | 1.0000000 | 5 | IGHA1    |\n",
       "| 368 | EIF3E    | 1.202853e-03 | 0.2978915 | 0.626 | 0.607 | 1.0000000 | 5 | EIF3E    |\n",
       "| 369 | IGHG41   | 1.246897e-03 | 0.6705861 | 0.982 | 0.976 | 1.0000000 | 5 | IGHG4    |\n",
       "| 370 | PRDX1    | 1.249874e-03 | 0.3832556 | 0.567 | 0.532 | 1.0000000 | 5 | PRDX1    |\n",
       "| 371 | VIM1     | 2.703313e-03 | 0.3017147 | 0.673 | 0.619 | 1.0000000 | 5 | VIM      |\n",
       "| 372 | GMFG     | 3.149591e-03 | 0.2848733 | 0.351 | 0.275 | 1.0000000 | 5 | GMFG     |\n",
       "| 373 | CD741    | 3.375180e-03 | 0.4509837 | 0.807 | 0.813 | 1.0000000 | 5 | CD74     |\n",
       "| 374 | ATP5J    | 4.523817e-03 | 0.2966953 | 0.632 | 0.600 | 1.0000000 | 5 | ATP5J    |\n",
       "| 375 | GNB2L11  | 4.620001e-03 | 0.2647300 | 0.801 | 0.800 | 1.0000000 | 5 | GNB2L1   |\n",
       "| 376 | TOMM71   | 5.262597e-03 | 0.2900817 | 0.784 | 0.782 | 1.0000000 | 5 | TOMM7    |\n",
       "| 377 | CTSB     | 5.682707e-03 | 0.3507602 | 0.257 | 0.197 | 1.0000000 | 5 | CTSB     |\n",
       "| 378 | NACA1    | 6.234539e-03 | 0.2603884 | 0.871 | 0.828 | 1.0000000 | 5 | NACA     |\n",
       "| 379 | YBX11    | 7.222252e-03 | 0.2513576 | 0.620 | 0.587 | 1.0000000 | 5 | YBX1     |\n",
       "| 380 | PSMB3    | 8.346022e-03 | 0.2916320 | 0.474 | 0.439 | 1.0000000 | 5 | PSMB3    |\n",
       "| 381 | NPC2     | 8.676398e-03 | 0.3007975 | 0.789 | 0.797 | 1.0000000 | 5 | NPC2     |\n",
       "| 382 | AP2S1    | 8.866693e-03 | 0.3480758 | 0.339 | 0.291 | 1.0000000 | 5 | AP2S1    |\n",
       "\n"
      ],
      "text/plain": [
       "    X        p_val        avg_log2FC pct.1 pct.2 p_val_adj    cluster gene    \n",
       "315 C1QC     1.240366e-95 0.7408135  0.251 0.013 2.588396e-91 5       C1QC    \n",
       "316 C1QB     8.652645e-87 1.0287832  0.368 0.038 1.805634e-82 5       C1QB    \n",
       "317 AIF1     2.754343e-73 1.2893174  0.515 0.097 5.747763e-69 5       AIF1    \n",
       "318 TMSB4X   1.169791e-72 2.7167296  0.947 0.617 2.441119e-68 5       TMSB4X  \n",
       "319 C1QA     1.102850e-61 0.9484391  0.333 0.045 2.301428e-57 5       C1QA    \n",
       "320 APOC1    1.051556e-60 1.1003647  0.421 0.076 2.194387e-56 5       APOC1   \n",
       "321 TYROBP   3.186123e-58 1.0541236  0.456 0.092 6.648801e-54 5       TYROBP  \n",
       "322 HLA-DPB1 7.433601e-49 1.2490018  0.316 0.051 1.551244e-44 5       HLA-DPB1\n",
       "323 HLA-DRA  7.135931e-47 1.1198692  0.374 0.075 1.489126e-42 5       HLA-DRA \n",
       "324 FTL      6.102883e-45 1.4783565  1.000 0.983 1.273550e-40 5       FTL     \n",
       "325 APOE     1.410970e-40 1.1650301  0.339 0.071 2.944412e-36 5       APOE    \n",
       "326 HLA-DPA1 1.210763e-39 0.8208906  0.263 0.043 2.526620e-35 5       HLA-DPA1\n",
       "327 IFITM3   5.641508e-37 0.7950018  0.257 0.044 1.177270e-32 5       IFITM3  \n",
       "328 HMOX1    9.876791e-36 0.7254934  0.287 0.056 2.061089e-31 5       HMOX1   \n",
       "329 FCER1G   4.654801e-35 0.6166297  0.281 0.054 9.713639e-31 5       FCER1G  \n",
       "330 FTH1     4.229327e-33 1.4400408  0.947 0.884 8.825760e-29 5       FTH1    \n",
       "331 LST1     1.832611e-27 0.6572420  0.281 0.068 3.824292e-23 5       LST1    \n",
       "332 FABP4    1.004604e-25 1.0621546  0.304 0.083 2.096407e-21 5       FABP4   \n",
       "333 TMSB10   1.195497e-22 0.8496872  0.936 0.853 2.494764e-18 5       TMSB10  \n",
       "334 GLUL     2.568681e-18 0.6039321  0.327 0.121 5.360324e-14 5       GLUL    \n",
       "335 ACTB     6.937551e-15 0.8325458  0.918 0.814 1.447728e-10 5       ACTB    \n",
       "336 SEPP1    1.082572e-13 0.7303874  0.497 0.280 2.259112e-09 5       SEPP1   \n",
       "337 BLVRB    1.461362e-13 0.7688538  0.462 0.272 3.049571e-09 5       BLVRB   \n",
       "338 CST3     1.268507e-11 0.8246857  0.667 0.501 2.647121e-07 5       CST3    \n",
       "339 LYZ      1.485919e-11 2.0317348  0.333 0.165 3.100816e-07 5       LYZ     \n",
       "340 S100A8   1.627366e-11 1.5281634  0.474 0.283 3.395987e-07 5       S100A8  \n",
       "341 S100A9   6.232438e-10 1.7708987  0.456 0.286 1.300585e-05 5       S100A9  \n",
       "342 GPX1     1.991488e-09 0.6922675  0.550 0.424 4.155838e-05 5       GPX1    \n",
       "343 SAT1     1.029652e-08 0.6848842  0.526 0.408 2.148678e-04 5       SAT1    \n",
       "344 HBB      1.996964e-07 0.6560534  0.871 0.868 4.167264e-03 5       HBB     \n",
       "⋮   ⋮        ⋮            ⋮          ⋮     ⋮     ⋮            ⋮       ⋮       \n",
       "353 CALM2    4.369228e-05 0.4192070  0.643 0.622 0.9117705    5       CALM2   \n",
       "354 TPT11    6.351710e-05 0.4785913  0.848 0.847 1.0000000    5       TPT1    \n",
       "355 FAU1     7.043213e-05 0.2881649  0.947 0.929 1.0000000    5       FAU     \n",
       "356 GAPDH1   7.319054e-05 0.4339086  0.690 0.626 1.0000000    5       GAPDH   \n",
       "357 IGLV1-44 8.984876e-05 0.4359946  0.474 0.303 1.0000000    5       IGLV1-44\n",
       "358 S100A11  1.310774e-04 0.4408612  0.526 0.474 1.0000000    5       S100A11 \n",
       "359 IGLC21   1.659188e-04 0.5956309  0.994 1.000 1.0000000    5       IGLC2   \n",
       "360 TUBA1B   1.738659e-04 0.5222780  0.474 0.413 1.0000000    5       TUBA1B  \n",
       "361 C6orf48  2.407541e-04 0.3902082  0.363 0.273 1.0000000    5       C6orf48 \n",
       "362 H3F3A1   3.067211e-04 0.2711780  0.865 0.821 1.0000000    5       H3F3A   \n",
       "363 PFDN51   4.542976e-04 0.3438139  0.819 0.802 1.0000000    5       PFDN5   \n",
       "364 PPIA1    4.601628e-04 0.4376636  0.667 0.634 1.0000000    5       PPIA    \n",
       "365 VAMP8    4.762169e-04 0.3709519  0.456 0.390 1.0000000    5       VAMP8   \n",
       "366 LY96     6.771685e-04 0.4119721  0.556 0.535 1.0000000    5       LY96    \n",
       "367 IGHA12   9.534176e-04 1.7472440  0.977 0.977 1.0000000    5       IGHA1   \n",
       "368 EIF3E    1.202853e-03 0.2978915  0.626 0.607 1.0000000    5       EIF3E   \n",
       "369 IGHG41   1.246897e-03 0.6705861  0.982 0.976 1.0000000    5       IGHG4   \n",
       "370 PRDX1    1.249874e-03 0.3832556  0.567 0.532 1.0000000    5       PRDX1   \n",
       "371 VIM1     2.703313e-03 0.3017147  0.673 0.619 1.0000000    5       VIM     \n",
       "372 GMFG     3.149591e-03 0.2848733  0.351 0.275 1.0000000    5       GMFG    \n",
       "373 CD741    3.375180e-03 0.4509837  0.807 0.813 1.0000000    5       CD74    \n",
       "374 ATP5J    4.523817e-03 0.2966953  0.632 0.600 1.0000000    5       ATP5J   \n",
       "375 GNB2L11  4.620001e-03 0.2647300  0.801 0.800 1.0000000    5       GNB2L1  \n",
       "376 TOMM71   5.262597e-03 0.2900817  0.784 0.782 1.0000000    5       TOMM7   \n",
       "377 CTSB     5.682707e-03 0.3507602  0.257 0.197 1.0000000    5       CTSB    \n",
       "378 NACA1    6.234539e-03 0.2603884  0.871 0.828 1.0000000    5       NACA    \n",
       "379 YBX11    7.222252e-03 0.2513576  0.620 0.587 1.0000000    5       YBX1    \n",
       "380 PSMB3    8.346022e-03 0.2916320  0.474 0.439 1.0000000    5       PSMB3   \n",
       "381 NPC2     8.676398e-03 0.3007975  0.789 0.797 1.0000000    5       NPC2    \n",
       "382 AP2S1    8.866693e-03 0.3480758  0.339 0.291 1.0000000    5       AP2S1   "
      ]
     },
     "metadata": {},
     "output_type": "display_data"
    }
   ],
   "source": [
    "ALNOR2"
   ]
  },
  {
   "cell_type": "code",
   "execution_count": 8,
   "metadata": {},
   "outputs": [],
   "source": [
    "ALNOR2<-ALNOR2[which(ALNOR2$p_val<0.05),]\n",
    "AL3NOR2<-AL3NOR2[which(AL3NOR2$p_val<0.05),]"
   ]
  },
  {
   "cell_type": "code",
   "execution_count": 9,
   "metadata": {},
   "outputs": [],
   "source": [
    "ALNOR2<-ALNOR2[which(ALNOR2$avg_log2FC>0),]\n",
    "AL3NOR2<-AL3NOR2[which(AL3NOR2$avg_log2FC>0),]"
   ]
  },
  {
   "cell_type": "code",
   "execution_count": 10,
   "metadata": {},
   "outputs": [
    {
     "data": {
      "text/html": [
       "<style>\n",
       ".dl-inline {width: auto; margin:0; padding: 0}\n",
       ".dl-inline>dt, .dl-inline>dd {float: none; width: auto; display: inline-block}\n",
       ".dl-inline>dt::after {content: \":\\0020\"; padding-right: .5ex}\n",
       ".dl-inline>dt:not(:first-of-type) {padding-left: .5ex}\n",
       "</style><dl class=dl-inline><dt>TMSB4X</dt><dd>2.71672964868645</dd><dt>LYZ</dt><dd>2.03173475373058</dd><dt>S100A9</dt><dd>1.77089872613756</dd><dt>IGHA12</dt><dd>1.74724402041435</dd><dt>S100A8</dt><dd>1.52816336164914</dd><dt>FTL</dt><dd>1.47835651158244</dd></dl>\n"
      ],
      "text/latex": [
       "\\begin{description*}\n",
       "\\item[TMSB4X] 2.71672964868645\n",
       "\\item[LYZ] 2.03173475373058\n",
       "\\item[S100A9] 1.77089872613756\n",
       "\\item[IGHA12] 1.74724402041435\n",
       "\\item[S100A8] 1.52816336164914\n",
       "\\item[FTL] 1.47835651158244\n",
       "\\end{description*}\n"
      ],
      "text/markdown": [
       "TMSB4X\n",
       ":   2.71672964868645LYZ\n",
       ":   2.03173475373058S100A9\n",
       ":   1.77089872613756IGHA12\n",
       ":   1.74724402041435S100A8\n",
       ":   1.52816336164914FTL\n",
       ":   1.47835651158244\n",
       "\n"
      ],
      "text/plain": [
       "  TMSB4X      LYZ   S100A9   IGHA12   S100A8      FTL \n",
       "2.716730 2.031735 1.770899 1.747244 1.528163 1.478357 "
      ]
     },
     "metadata": {},
     "output_type": "display_data"
    }
   ],
   "source": [
    "ge = ALNOR2$avg_log2FC\n",
    "names(ge) = ALNOR2$X\n",
    "ge = sort(ge,decreasing = T)\n",
    "head(ge)"
   ]
  },
  {
   "cell_type": "code",
   "execution_count": 11,
   "metadata": {},
   "outputs": [],
   "source": [
    "geneset<-read.csv('C0002726_disease_gda_summary.csv')"
   ]
  },
  {
   "cell_type": "code",
   "execution_count": 12,
   "metadata": {},
   "outputs": [
    {
     "name": "stderr",
     "output_type": "stream",
     "text": [
      "── \u001b[1mAttaching packages\u001b[22m ────────────────────────────────────────────────────────────────────────────────────────────────────────────────────────────────────────────────────────────── tidyverse 1.3.0 ──\n",
      "\n",
      "\u001b[32m✔\u001b[39m \u001b[34mggplot2\u001b[39m 3.3.5     \u001b[32m✔\u001b[39m \u001b[34mpurrr  \u001b[39m 0.3.4\n",
      "\u001b[32m✔\u001b[39m \u001b[34mtibble \u001b[39m 3.1.4     \u001b[32m✔\u001b[39m \u001b[34mdplyr  \u001b[39m 1.0.7\n",
      "\u001b[32m✔\u001b[39m \u001b[34mtidyr  \u001b[39m 1.1.3     \u001b[32m✔\u001b[39m \u001b[34mstringr\u001b[39m 1.4.0\n",
      "\u001b[32m✔\u001b[39m \u001b[34mreadr  \u001b[39m 2.0.1     \u001b[32m✔\u001b[39m \u001b[34mforcats\u001b[39m 0.5.1\n",
      "\n",
      "── \u001b[1mConflicts\u001b[22m ───────────────────────────────────────────────────────────────────────────────────────────────────────────────────────────────────────────────────────────────── tidyverse_conflicts() ──\n",
      "\u001b[31m✖\u001b[39m \u001b[34mstringr\u001b[39m::\u001b[32mboundary()\u001b[39m masks \u001b[34mgraph\u001b[39m::boundary()\n",
      "\u001b[31m✖\u001b[39m \u001b[34mdplyr\u001b[39m::\u001b[32mcollapse()\u001b[39m   masks \u001b[34mIRanges\u001b[39m::collapse()\n",
      "\u001b[31m✖\u001b[39m \u001b[34mdplyr\u001b[39m::\u001b[32mcombine()\u001b[39m    masks \u001b[34mBiobase\u001b[39m::combine(), \u001b[34mBiocGenerics\u001b[39m::combine()\n",
      "\u001b[31m✖\u001b[39m \u001b[34mdplyr\u001b[39m::\u001b[32mdesc()\u001b[39m       masks \u001b[34mIRanges\u001b[39m::desc()\n",
      "\u001b[31m✖\u001b[39m \u001b[34mtidyr\u001b[39m::\u001b[32mexpand()\u001b[39m     masks \u001b[34mS4Vectors\u001b[39m::expand()\n",
      "\u001b[31m✖\u001b[39m \u001b[34mdplyr\u001b[39m::\u001b[32mfilter()\u001b[39m     masks \u001b[34mclusterProfiler\u001b[39m::filter(), \u001b[34mstats\u001b[39m::filter()\n",
      "\u001b[31m✖\u001b[39m \u001b[34mdplyr\u001b[39m::\u001b[32mfirst()\u001b[39m      masks \u001b[34mS4Vectors\u001b[39m::first()\n",
      "\u001b[31m✖\u001b[39m \u001b[34mdplyr\u001b[39m::\u001b[32mlag()\u001b[39m        masks \u001b[34mstats\u001b[39m::lag()\n",
      "\u001b[31m✖\u001b[39m \u001b[34mggplot2\u001b[39m::\u001b[32mPosition()\u001b[39m masks \u001b[34mBiocGenerics\u001b[39m::Position(), \u001b[34mbase\u001b[39m::Position()\n",
      "\u001b[31m✖\u001b[39m \u001b[34mpurrr\u001b[39m::\u001b[32mreduce()\u001b[39m     masks \u001b[34mIRanges\u001b[39m::reduce()\n",
      "\u001b[31m✖\u001b[39m \u001b[34mdplyr\u001b[39m::\u001b[32mrename()\u001b[39m     masks \u001b[34mclusterProfiler\u001b[39m::rename(), \u001b[34mS4Vectors\u001b[39m::rename()\n",
      "\u001b[31m✖\u001b[39m \u001b[34mdplyr\u001b[39m::\u001b[32mselect()\u001b[39m     masks \u001b[34mclusterProfiler\u001b[39m::select(), \u001b[34mAnnotationDbi\u001b[39m::select()\n",
      "\u001b[31m✖\u001b[39m \u001b[34mpurrr\u001b[39m::\u001b[32msimplify()\u001b[39m   masks \u001b[34mclusterProfiler\u001b[39m::simplify()\n",
      "\u001b[31m✖\u001b[39m \u001b[34mdplyr\u001b[39m::\u001b[32mslice()\u001b[39m      masks \u001b[34mclusterProfiler\u001b[39m::slice(), \u001b[34mIRanges\u001b[39m::slice()\n",
      "\n"
     ]
    }
   ],
   "source": [
    "library(tidyverse) \n",
    "GO_df<-data.frame('Amyloidosis',geneset$Gene)\n",
    "colnames(GO_df)<-c('gs_exact_source','gene_symbol')\n",
    "GO_df<-as_tibble(GO_df)"
   ]
  },
  {
   "cell_type": "code",
   "execution_count": 13,
   "metadata": {},
   "outputs": [
    {
     "name": "stderr",
     "output_type": "stream",
     "text": [
      "Warning message in preparePathwaysAndStats(pathways, stats, minSize, maxSize, gseaParam, :\n",
      "“All values in the stats vector are greater than zero and scoreType is \"std\", maybe you should switch to scoreType = \"pos\".”\n"
     ]
    }
   ],
   "source": [
    "em <-GSEA(ge, TERM2GENE = GO_df,minGSSize = 1, pvalueCutoff = 0.99, verbose = F)"
   ]
  },
  {
   "cell_type": "code",
   "execution_count": 14,
   "metadata": {},
   "outputs": [
    {
     "data": {
      "text/html": [
       "'LYZ/S100A9/S100A8/AIF1/APOE/TYROBP/C1QB/C1QA/ACTB/CST3/C1QC/HMOX1/GPX1'"
      ],
      "text/latex": [
       "'LYZ/S100A9/S100A8/AIF1/APOE/TYROBP/C1QB/C1QA/ACTB/CST3/C1QC/HMOX1/GPX1'"
      ],
      "text/markdown": [
       "'LYZ/S100A9/S100A8/AIF1/APOE/TYROBP/C1QB/C1QA/ACTB/CST3/C1QC/HMOX1/GPX1'"
      ],
      "text/plain": [
       "[1] \"LYZ/S100A9/S100A8/AIF1/APOE/TYROBP/C1QB/C1QA/ACTB/CST3/C1QC/HMOX1/GPX1\""
      ]
     },
     "metadata": {},
     "output_type": "display_data"
    },
    {
     "data": {
      "text/html": [
       "0.00104336811964922"
      ],
      "text/latex": [
       "0.00104336811964922"
      ],
      "text/markdown": [
       "0.00104336811964922"
      ],
      "text/plain": [
       "[1] 0.001043368"
      ]
     },
     "metadata": {},
     "output_type": "display_data"
    },
    {
     "data": {
      "image/png": "[encoded data removed]",
      "text/plain": [
       "plot without title"
      ]
     },
     "metadata": {
      "image/png": {
       "height": 420,
       "width": 420
      }
     },
     "output_type": "display_data"
    }
   ],
   "source": [
    "gseaplot2(em, geneSetID = 1, title = em$Description[1])\n",
    "em$core_enrichment\n",
    "em$pvalue"
   ]
  },
  {
   "cell_type": "code",
   "execution_count": 15,
   "metadata": {},
   "outputs": [
    {
     "data": {
      "text/html": [
       "<strong>null device:</strong> 1"
      ],
      "text/latex": [
       "\\textbf{null device:} 1"
      ],
      "text/markdown": [
       "**null device:** 1"
      ],
      "text/plain": [
       "null device \n",
       "          1 "
      ]
     },
     "metadata": {},
     "output_type": "display_data"
    }
   ],
   "source": [
    "ggsave('CCND1low.amy.pdf',width=6,height=6)\n",
    "dev.off()"
   ]
  },
  {
   "cell_type": "code",
   "execution_count": 16,
   "metadata": {},
   "outputs": [
    {
     "data": {
      "text/plain": [
       "#\n",
       "# Gene Set Enrichment Analysis\n",
       "#\n",
       "#...@organism \t UNKNOWN \n",
       "#...@setType \t UNKNOWN \n",
       "#...@geneList \t Named num [1:68] 2.72 2.03 1.77 1.75 1.53 ...\n",
       " - attr(*, \"names\")= chr [1:68] \"TMSB4X\" \"LYZ\" \"S100A9\" \"IGHA12\" ...\n",
       "#...nPerm \t \n",
       "#...pvalues adjusted by 'BH' with cutoff <0.99 \n",
       "#...1 enriched terms found\n",
       "'data.frame':\t1 obs. of  11 variables:\n",
       " $ ID             : chr \"Amyloidosis\"\n",
       " $ Description    : chr \"Amyloidosis\"\n",
       " $ setSize        : int 14\n",
       " $ enrichmentScore: num 0.699\n",
       " $ NES            : num 1.83\n",
       " $ pvalue         : num 0.00104\n",
       " $ p.adjust       : num 0.00104\n",
       " $ qvalues        : logi NA\n",
       " $ rank           : int 28\n",
       " $ leading_edge   : chr \"tags=93%, list=41%, signal=69%\"\n",
       " $ core_enrichment: chr \"LYZ/S100A9/S100A8/AIF1/APOE/TYROBP/C1QB/C1QA/ACTB/CST3/C1QC/HMOX1/GPX1\"\n",
       "#...Citation\n",
       "  Guangchuang Yu, Li-Gen Wang, Yanyan Han and Qing-Yu He.\n",
       "  clusterProfiler: an R package for comparing biological themes among\n",
       "  gene clusters. OMICS: A Journal of Integrative Biology\n",
       "  2012, 16(5):284-287 \n"
      ]
     },
     "metadata": {},
     "output_type": "display_data"
    }
   ],
   "source": [
    "em"
   ]
  },
  {
   "cell_type": "code",
   "execution_count": 17,
   "metadata": {},
   "outputs": [
    {
     "data": {
      "text/html": [
       "<style>\n",
       ".dl-inline {width: auto; margin:0; padding: 0}\n",
       ".dl-inline>dt, .dl-inline>dd {float: none; width: auto; display: inline-block}\n",
       ".dl-inline>dt::after {content: \":\\0020\"; padding-right: .5ex}\n",
       ".dl-inline>dt:not(:first-of-type) {padding-left: .5ex}\n",
       "</style><dl class=dl-inline><dt>FTL</dt><dd>1.9727757988536</dd><dt>TMSB4X</dt><dd>1.70603960520596</dd><dt>APOE</dt><dd>1.14302721008468</dd><dt>AIF1</dt><dd>1.0319174186024</dd><dt>APOC1</dt><dd>1.02562418021859</dd><dt>C1QB</dt><dd>1.0099122015602</dd></dl>\n"
      ],
      "text/latex": [
       "\\begin{description*}\n",
       "\\item[FTL] 1.9727757988536\n",
       "\\item[TMSB4X] 1.70603960520596\n",
       "\\item[APOE] 1.14302721008468\n",
       "\\item[AIF1] 1.0319174186024\n",
       "\\item[APOC1] 1.02562418021859\n",
       "\\item[C1QB] 1.0099122015602\n",
       "\\end{description*}\n"
      ],
      "text/markdown": [
       "FTL\n",
       ":   1.9727757988536TMSB4X\n",
       ":   1.70603960520596APOE\n",
       ":   1.14302721008468AIF1\n",
       ":   1.0319174186024APOC1\n",
       ":   1.02562418021859C1QB\n",
       ":   1.0099122015602\n",
       "\n"
      ],
      "text/plain": [
       "     FTL   TMSB4X     APOE     AIF1    APOC1     C1QB \n",
       "1.972776 1.706040 1.143027 1.031917 1.025624 1.009912 "
      ]
     },
     "metadata": {},
     "output_type": "display_data"
    }
   ],
   "source": [
    "ge2 = AL3NOR2$avg_log2FC\n",
    "names(ge2) = AL3NOR2$X\n",
    "ge2 = sort(ge2,decreasing = T)\n",
    "head(ge2)"
   ]
  },
  {
   "cell_type": "code",
   "execution_count": 18,
   "metadata": {},
   "outputs": [
    {
     "name": "stderr",
     "output_type": "stream",
     "text": [
      "Warning message in preparePathwaysAndStats(pathways, stats, minSize, maxSize, gseaParam, :\n",
      "“All values in the stats vector are greater than zero and scoreType is \"std\", maybe you should switch to scoreType = \"pos\".”\n"
     ]
    }
   ],
   "source": [
    "em2 <-GSEA(ge2, TERM2GENE = GO_df,minGSSize = 1, pvalueCutoff = 0.99, verbose = F)"
   ]
  },
  {
   "cell_type": "code",
   "execution_count": 19,
   "metadata": {},
   "outputs": [
    {
     "data": {
      "text/html": [
       "'APOE/AIF1/C1QB/C1QA/GPX1/CST3/TYROBP/C1QC/ACTB/HMOX1'"
      ],
      "text/latex": [
       "'APOE/AIF1/C1QB/C1QA/GPX1/CST3/TYROBP/C1QC/ACTB/HMOX1'"
      ],
      "text/markdown": [
       "'APOE/AIF1/C1QB/C1QA/GPX1/CST3/TYROBP/C1QC/ACTB/HMOX1'"
      ],
      "text/plain": [
       "[1] \"APOE/AIF1/C1QB/C1QA/GPX1/CST3/TYROBP/C1QC/ACTB/HMOX1\""
      ]
     },
     "metadata": {},
     "output_type": "display_data"
    },
    {
     "data": {
      "text/html": [
       "0.000982069446600326"
      ],
      "text/latex": [
       "0.000982069446600326"
      ],
      "text/markdown": [
       "0.000982069446600326"
      ],
      "text/plain": [
       "[1] 0.0009820694"
      ]
     },
     "metadata": {},
     "output_type": "display_data"
    },
    {
     "data": {
      "image/png": "[encoded data removed]",
      "text/plain": [
       "plot without title"
      ]
     },
     "metadata": {
      "image/png": {
       "height": 420,
       "width": 420
      }
     },
     "output_type": "display_data"
    }
   ],
   "source": [
    "gseaplot2(em2, geneSetID = 1, title = em2$Description[1])\n",
    "em2$core_enrichment\n",
    "em2$pvalue"
   ]
  },
  {
   "cell_type": "code",
   "execution_count": 20,
   "metadata": {},
   "outputs": [
    {
     "data": {
      "text/html": [
       "<strong>null device:</strong> 1"
      ],
      "text/latex": [
       "\\textbf{null device:} 1"
      ],
      "text/markdown": [
       "**null device:** 1"
      ],
      "text/plain": [
       "null device \n",
       "          1 "
      ]
     },
     "metadata": {},
     "output_type": "display_data"
    }
   ],
   "source": [
    "ggsave('CCND1hi.amy.pdf',width=6,height=6)\n",
    "dev.off()"
   ]
  },
  {
   "cell_type": "code",
   "execution_count": 21,
   "metadata": {},
   "outputs": [
    {
     "data": {
      "text/plain": [
       "#\n",
       "# Gene Set Enrichment Analysis\n",
       "#\n",
       "#...@organism \t UNKNOWN \n",
       "#...@setType \t UNKNOWN \n",
       "#...@geneList \t Named num [1:86] 1.97 1.71 1.14 1.03 1.03 ...\n",
       " - attr(*, \"names\")= chr [1:86] \"FTL\" \"TMSB4X\" \"APOE\" \"AIF1\" ...\n",
       "#...nPerm \t \n",
       "#...pvalues adjusted by 'BH' with cutoff <0.99 \n",
       "#...1 enriched terms found\n",
       "'data.frame':\t1 obs. of  11 variables:\n",
       " $ ID             : chr \"Amyloidosis\"\n",
       " $ Description    : chr \"Amyloidosis\"\n",
       " $ setSize        : int 12\n",
       " $ enrichmentScore: num 0.711\n",
       " $ NES            : num 1.95\n",
       " $ pvalue         : num 0.000982\n",
       " $ p.adjust       : num 0.000982\n",
       " $ qvalues        : logi NA\n",
       " $ rank           : int 26\n",
       " $ leading_edge   : chr \"tags=83%, list=30%, signal=68%\"\n",
       " $ core_enrichment: chr \"APOE/AIF1/C1QB/C1QA/GPX1/CST3/TYROBP/C1QC/ACTB/HMOX1\"\n",
       "#...Citation\n",
       "  Guangchuang Yu, Li-Gen Wang, Yanyan Han and Qing-Yu He.\n",
       "  clusterProfiler: an R package for comparing biological themes among\n",
       "  gene clusters. OMICS: A Journal of Integrative Biology\n",
       "  2012, 16(5):284-287 \n"
      ]
     },
     "metadata": {},
     "output_type": "display_data"
    }
   ],
   "source": [
    "em2"
   ]
  }
 ],
 "metadata": {
  "kernelspec": {
   "display_name": "R",
   "language": "R",
   "name": "ir"
  },
  "language_info": {
   "codemirror_mode": "r",
   "file_extension": ".r",
   "mimetype": "text/x-r-source",
   "name": "R",
   "pygments_lexer": "r",
   "version": "4.0.3"
  }
 },
 "nbformat": 4,
 "nbformat_minor": 2
}
