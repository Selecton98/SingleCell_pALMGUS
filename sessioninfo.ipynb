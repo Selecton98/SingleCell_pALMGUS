{
 "cells": [
  {
   "cell_type": "code",
   "execution_count": 1,
   "metadata": {},
   "outputs": [
    {
     "name": "stderr",
     "output_type": "stream",
     "text": [
      "Loading required package: ggplot2\n",
      "\n",
      "Loading required package: ggrepel\n",
      "\n"
     ]
    }
   ],
   "source": [
    "library('EnhancedVolcano')"
   ]
  },
  {
   "cell_type": "code",
   "execution_count": 2,
   "metadata": {},
   "outputs": [
    {
     "name": "stderr",
     "output_type": "stream",
     "text": [
      "\n",
      "Attaching package: ‘dplyr’\n",
      "\n",
      "\n",
      "The following objects are masked from ‘package:stats’:\n",
      "\n",
      "    filter, lag\n",
      "\n",
      "\n",
      "The following objects are masked from ‘package:base’:\n",
      "\n",
      "    intersect, setdiff, setequal, union\n",
      "\n",
      "\n",
      "Attaching SeuratObject\n",
      "\n"
     ]
    }
   ],
   "source": [
    "library(dplyr)\n",
    "library(Seurat)\n",
    "library(patchwork)"
   ]
  },
  {
   "cell_type": "code",
   "execution_count": 3,
   "metadata": {},
   "outputs": [
    {
     "name": "stderr",
     "output_type": "stream",
     "text": [
      "\n",
      "Attaching package: ‘cowplot’\n",
      "\n",
      "\n",
      "The following object is masked from ‘package:patchwork’:\n",
      "\n",
      "    align_plots\n",
      "\n",
      "\n"
     ]
    }
   ],
   "source": [
    "library(ggplot2)\n",
    "library(cowplot)"
   ]
  },
  {
   "cell_type": "code",
   "execution_count": 4,
   "metadata": {},
   "outputs": [
    {
     "name": "stderr",
     "output_type": "stream",
     "text": [
      "\n",
      "Attaching package: ‘plotly’\n",
      "\n",
      "\n",
      "The following object is masked from ‘package:ggplot2’:\n",
      "\n",
      "    last_plot\n",
      "\n",
      "\n",
      "The following object is masked from ‘package:stats’:\n",
      "\n",
      "    filter\n",
      "\n",
      "\n",
      "The following object is masked from ‘package:graphics’:\n",
      "\n",
      "    layout\n",
      "\n",
      "\n"
     ]
    }
   ],
   "source": [
    "library(plotly)"
   ]
  },
  {
   "cell_type": "code",
   "execution_count": 5,
   "metadata": {},
   "outputs": [
    {
     "name": "stderr",
     "output_type": "stream",
     "text": [
      "Loading required package: ggraph\n",
      "\n"
     ]
    }
   ],
   "source": [
    "library(\"clustree\")"
   ]
  },
  {
   "cell_type": "code",
   "execution_count": 6,
   "metadata": {},
   "outputs": [],
   "source": [
    "library(DoubletFinder)"
   ]
  },
  {
   "cell_type": "code",
   "execution_count": 7,
   "metadata": {},
   "outputs": [
    {
     "name": "stderr",
     "output_type": "stream",
     "text": [
      "\n",
      "Attaching package: ‘ggpubr’\n",
      "\n",
      "\n",
      "The following object is masked from ‘package:cowplot’:\n",
      "\n",
      "    get_legend\n",
      "\n",
      "\n"
     ]
    }
   ],
   "source": [
    "library(ggpubr)\n",
    "library(RColorBrewer)"
   ]
  },
  {
   "cell_type": "code",
   "execution_count": 8,
   "metadata": {},
   "outputs": [
    {
     "name": "stderr",
     "output_type": "stream",
     "text": [
      "Warning message:\n",
      "“multiple methods tables found for ‘which’”\n",
      "Warning message:\n",
      "“multiple methods tables found for ‘which’”\n"
     ]
    }
   ],
   "source": [
    "library(\"Seurat\")\n",
    "library(\"SingleR\")"
   ]
  },
  {
   "cell_type": "code",
   "execution_count": 9,
   "metadata": {},
   "outputs": [
    {
     "name": "stderr",
     "output_type": "stream",
     "text": [
      "Loading required package: Matrix\n",
      "\n",
      "Loading required package: Biobase\n",
      "\n",
      "Loading required package: BiocGenerics\n",
      "\n",
      "Loading required package: parallel\n",
      "\n",
      "\n",
      "Attaching package: ‘BiocGenerics’\n",
      "\n",
      "\n",
      "The following objects are masked from ‘package:parallel’:\n",
      "\n",
      "    clusterApply, clusterApplyLB, clusterCall, clusterEvalQ,\n",
      "    clusterExport, clusterMap, parApply, parCapply, parLapply,\n",
      "    parLapplyLB, parRapply, parSapply, parSapplyLB\n",
      "\n",
      "\n",
      "The following objects are masked from ‘package:dplyr’:\n",
      "\n",
      "    combine, intersect, setdiff, union\n",
      "\n",
      "\n",
      "The following objects are masked from ‘package:stats’:\n",
      "\n",
      "    IQR, mad, sd, var, xtabs\n",
      "\n",
      "\n",
      "The following objects are masked from ‘package:base’:\n",
      "\n",
      "    anyDuplicated, append, as.data.frame, basename, cbind, colnames,\n",
      "    dirname, do.call, duplicated, eval, evalq, Filter, Find, get, grep,\n",
      "    grepl, intersect, is.unsorted, lapply, Map, mapply, match, mget,\n",
      "    order, paste, pmax, pmax.int, pmin, pmin.int, Position, rank,\n",
      "    rbind, Reduce, rownames, sapply, setdiff, sort, table, tapply,\n",
      "    union, unique, unsplit, which.max, which.min\n",
      "\n",
      "\n",
      "Welcome to Bioconductor\n",
      "\n",
      "    Vignettes contain introductory material; view with\n",
      "    'browseVignettes()'. To cite Bioconductor, see\n",
      "    'citation(\"Biobase\")', and for packages 'citation(\"pkgname\")'.\n",
      "\n",
      "\n",
      "Loading required package: VGAM\n",
      "\n",
      "Loading required package: stats4\n",
      "\n",
      "Loading required package: splines\n",
      "\n",
      "Loading required package: DDRTree\n",
      "\n",
      "Loading required package: irlba\n",
      "\n"
     ]
    }
   ],
   "source": [
    "library(monocle)"
   ]
  },
  {
   "cell_type": "code",
   "execution_count": 10,
   "metadata": {},
   "outputs": [],
   "source": [
    "library(stringr)"
   ]
  },
  {
   "cell_type": "code",
   "execution_count": 11,
   "metadata": {},
   "outputs": [],
   "source": [
    "library(ggplot2)"
   ]
  },
  {
   "cell_type": "code",
   "execution_count": 12,
   "metadata": {},
   "outputs": [],
   "source": [
    "library(RColorBrewer)"
   ]
  },
  {
   "cell_type": "code",
   "execution_count": 13,
   "metadata": {},
   "outputs": [],
   "source": [
    "library(\"scales\")"
   ]
  },
  {
   "cell_type": "code",
   "execution_count": 14,
   "metadata": {},
   "outputs": [
    {
     "name": "stderr",
     "output_type": "stream",
     "text": [
      "\n",
      "Attaching package: ‘htmlwidgets’\n",
      "\n",
      "\n",
      "The following object is masked from ‘package:SeuratObject’:\n",
      "\n",
      "    JS\n",
      "\n",
      "\n",
      "The following object is masked from ‘package:Seurat’:\n",
      "\n",
      "    JS\n",
      "\n",
      "\n"
     ]
    }
   ],
   "source": [
    "library(htmlwidgets)"
   ]
  },
  {
   "cell_type": "code",
   "execution_count": 15,
   "metadata": {},
   "outputs": [],
   "source": [
    "library('pheatmap')"
   ]
  },
  {
   "cell_type": "code",
   "execution_count": 16,
   "metadata": {},
   "outputs": [
    {
     "name": "stderr",
     "output_type": "stream",
     "text": [
      "Loading required package: IRanges\n",
      "\n",
      "Loading required package: S4Vectors\n",
      "\n",
      "\n",
      "Attaching package: ‘S4Vectors’\n",
      "\n",
      "\n",
      "The following object is masked from ‘package:Matrix’:\n",
      "\n",
      "    expand\n",
      "\n",
      "\n",
      "The following object is masked from ‘package:plotly’:\n",
      "\n",
      "    rename\n",
      "\n",
      "\n",
      "The following objects are masked from ‘package:dplyr’:\n",
      "\n",
      "    first, rename\n",
      "\n",
      "\n",
      "The following object is masked from ‘package:base’:\n",
      "\n",
      "    expand.grid\n",
      "\n",
      "\n",
      "\n",
      "Attaching package: ‘IRanges’\n",
      "\n",
      "\n",
      "The following object is masked from ‘package:plotly’:\n",
      "\n",
      "    slice\n",
      "\n",
      "\n",
      "The following objects are masked from ‘package:dplyr’:\n",
      "\n",
      "    collapse, desc, slice\n",
      "\n",
      "\n",
      "\n",
      "Attaching package: ‘AnnotationDbi’\n",
      "\n",
      "\n",
      "The following object is masked from ‘package:plotly’:\n",
      "\n",
      "    select\n",
      "\n",
      "\n",
      "The following object is masked from ‘package:dplyr’:\n",
      "\n",
      "    select\n",
      "\n",
      "\n",
      "\n",
      "\n"
     ]
    }
   ],
   "source": [
    "library(AnnotationDbi)\n",
    "library(org.Hs.eg.db)"
   ]
  },
  {
   "cell_type": "code",
   "execution_count": 17,
   "metadata": {},
   "outputs": [
    {
     "name": "stderr",
     "output_type": "stream",
     "text": [
      "Warning message:\n",
      "“no DISPLAY variable so Tk is not available”\n"
     ]
    }
   ],
   "source": [
    "library(LandSCENT)"
   ]
  },
  {
   "cell_type": "code",
   "execution_count": 18,
   "metadata": {},
   "outputs": [],
   "source": [
    "library(Seurat)"
   ]
  },
  {
   "cell_type": "code",
   "execution_count": 19,
   "metadata": {},
   "outputs": [
    {
     "name": "stderr",
     "output_type": "stream",
     "text": [
      "Loading required package: SummarizedExperiment\n",
      "\n",
      "Loading required package: GenomicRanges\n",
      "\n",
      "Loading required package: GenomeInfoDb\n",
      "\n",
      "Loading required package: DelayedArray\n",
      "\n",
      "Loading required package: matrixStats\n",
      "\n",
      "\n",
      "Attaching package: ‘matrixStats’\n",
      "\n",
      "\n",
      "The following objects are masked from ‘package:Biobase’:\n",
      "\n",
      "    anyMissing, rowMedians\n",
      "\n",
      "\n",
      "The following object is masked from ‘package:dplyr’:\n",
      "\n",
      "    count\n",
      "\n",
      "\n",
      "\n",
      "Attaching package: ‘DelayedArray’\n",
      "\n",
      "\n",
      "The following objects are masked from ‘package:matrixStats’:\n",
      "\n",
      "    colMaxs, colMins, colRanges, rowMaxs, rowMins, rowRanges\n",
      "\n",
      "\n",
      "The following objects are masked from ‘package:base’:\n",
      "\n",
      "    aperm, apply, rowsum\n",
      "\n",
      "\n",
      "\n",
      "Attaching package: ‘SummarizedExperiment’\n",
      "\n",
      "\n",
      "The following object is masked from ‘package:SeuratObject’:\n",
      "\n",
      "    Assays\n",
      "\n",
      "\n",
      "The following object is masked from ‘package:Seurat’:\n",
      "\n",
      "    Assays\n",
      "\n",
      "\n"
     ]
    }
   ],
   "source": [
    "library('SingleCellExperiment')"
   ]
  },
  {
   "cell_type": "code",
   "execution_count": 20,
   "metadata": {},
   "outputs": [
    {
     "name": "stderr",
     "output_type": "stream",
     "text": [
      "Loading required package: princurve\n",
      "\n",
      "Registered S3 method overwritten by 'cli':\n",
      "  method     from    \n",
      "  print.boxx spatstat\n",
      "\n",
      "── \u001b[1mAttaching packages\u001b[22m ────────────────────────────────────────────────────────────────────────────────────────────────────────────────────────────────────────────────────────────── tidyverse 1.3.0 ──\n",
      "\n",
      "\u001b[32m✔\u001b[39m \u001b[34mtibble \u001b[39m 3.1.4     \u001b[32m✔\u001b[39m \u001b[34mpurrr  \u001b[39m 0.3.4\n",
      "\u001b[32m✔\u001b[39m \u001b[34mtidyr  \u001b[39m 1.1.3     \u001b[32m✔\u001b[39m \u001b[34mforcats\u001b[39m 0.5.1\n",
      "\u001b[32m✔\u001b[39m \u001b[34mreadr  \u001b[39m 2.0.1     \n",
      "\n",
      "── \u001b[1mConflicts\u001b[22m ───────────────────────────────────────────────────────────────────────────────────────────────────────────────────────────────────────────────────────────────── tidyverse_conflicts() ──\n",
      "\u001b[31m✖\u001b[39m \u001b[34mreadr\u001b[39m::\u001b[32mcol_factor()\u001b[39m      masks \u001b[34mscales\u001b[39m::col_factor()\n",
      "\u001b[31m✖\u001b[39m \u001b[34mIRanges\u001b[39m::\u001b[32mcollapse()\u001b[39m      masks \u001b[34mdplyr\u001b[39m::collapse()\n",
      "\u001b[31m✖\u001b[39m \u001b[34mBiobase\u001b[39m::\u001b[32mcombine()\u001b[39m       masks \u001b[34mBiocGenerics\u001b[39m::combine(), \u001b[34mdplyr\u001b[39m::combine()\n",
      "\u001b[31m✖\u001b[39m \u001b[34mmatrixStats\u001b[39m::\u001b[32mcount()\u001b[39m     masks \u001b[34mdplyr\u001b[39m::count()\n",
      "\u001b[31m✖\u001b[39m \u001b[34mIRanges\u001b[39m::\u001b[32mdesc()\u001b[39m          masks \u001b[34mdplyr\u001b[39m::desc()\n",
      "\u001b[31m✖\u001b[39m \u001b[34mpurrr\u001b[39m::\u001b[32mdiscard()\u001b[39m         masks \u001b[34mscales\u001b[39m::discard()\n",
      "\u001b[31m✖\u001b[39m \u001b[34mtidyr\u001b[39m::\u001b[32mexpand()\u001b[39m          masks \u001b[34mS4Vectors\u001b[39m::expand(), \u001b[34mMatrix\u001b[39m::expand()\n",
      "\u001b[31m✖\u001b[39m \u001b[34mtidyr\u001b[39m::\u001b[32mfill()\u001b[39m            masks \u001b[34mVGAM\u001b[39m::fill()\n",
      "\u001b[31m✖\u001b[39m \u001b[34mplotly\u001b[39m::\u001b[32mfilter()\u001b[39m         masks \u001b[34mdplyr\u001b[39m::filter(), \u001b[34mstats\u001b[39m::filter()\n",
      "\u001b[31m✖\u001b[39m \u001b[34mS4Vectors\u001b[39m::\u001b[32mfirst()\u001b[39m       masks \u001b[34mdplyr\u001b[39m::first()\n",
      "\u001b[31m✖\u001b[39m \u001b[34mdplyr\u001b[39m::\u001b[32mlag()\u001b[39m             masks \u001b[34mstats\u001b[39m::lag()\n",
      "\u001b[31m✖\u001b[39m \u001b[34mtidyr\u001b[39m::\u001b[32mpack()\u001b[39m            masks \u001b[34mMatrix\u001b[39m::pack()\n",
      "\u001b[31m✖\u001b[39m \u001b[34mBiocGenerics\u001b[39m::\u001b[32mPosition()\u001b[39m masks \u001b[34mggplot2\u001b[39m::Position(), \u001b[34mbase\u001b[39m::Position()\n",
      "\u001b[31m✖\u001b[39m \u001b[34mpurrr\u001b[39m::\u001b[32mreduce()\u001b[39m          masks \u001b[34mGenomicRanges\u001b[39m::reduce(), \u001b[34mIRanges\u001b[39m::reduce()\n",
      "\u001b[31m✖\u001b[39m \u001b[34mS4Vectors\u001b[39m::\u001b[32mrename()\u001b[39m      masks \u001b[34mplotly\u001b[39m::rename(), \u001b[34mdplyr\u001b[39m::rename()\n",
      "\u001b[31m✖\u001b[39m \u001b[34mAnnotationDbi\u001b[39m::\u001b[32mselect()\u001b[39m  masks \u001b[34mplotly\u001b[39m::select(), \u001b[34mdplyr\u001b[39m::select()\n",
      "\u001b[31m✖\u001b[39m \u001b[34mpurrr\u001b[39m::\u001b[32msimplify()\u001b[39m        masks \u001b[34mDelayedArray\u001b[39m::simplify()\n",
      "\u001b[31m✖\u001b[39m \u001b[34mIRanges\u001b[39m::\u001b[32mslice()\u001b[39m         masks \u001b[34mplotly\u001b[39m::slice(), \u001b[34mdplyr\u001b[39m::slice()\n",
      "\u001b[31m✖\u001b[39m \u001b[34mtidyr\u001b[39m::\u001b[32munpack()\u001b[39m          masks \u001b[34mMatrix\u001b[39m::unpack()\n",
      "\n",
      "Loading required package: viridisLite\n",
      "\n",
      "\n",
      "Attaching package: ‘viridis’\n",
      "\n",
      "\n",
      "The following object is masked from ‘package:scales’:\n",
      "\n",
      "    viridis_pal\n",
      "\n",
      "\n"
     ]
    }
   ],
   "source": [
    "library(slingshot)\n",
    "library(tidyverse)\n",
    "library(Seurat)\n",
    "library(scales)\n",
    "library(viridis)\n",
    "library(Matrix)"
   ]
  },
  {
   "cell_type": "code",
   "execution_count": 21,
   "metadata": {},
   "outputs": [],
   "source": [
    "library(\"Matrix\")"
   ]
  },
  {
   "cell_type": "code",
   "execution_count": 22,
   "metadata": {},
   "outputs": [],
   "source": [
    "library(\"SCENIC\")"
   ]
  },
  {
   "cell_type": "code",
   "execution_count": 23,
   "metadata": {},
   "outputs": [],
   "source": [
    "library(\"Seurat\")"
   ]
  },
  {
   "cell_type": "code",
   "execution_count": 24,
   "metadata": {},
   "outputs": [],
   "source": [
    "library(\"RcisTarget\")"
   ]
  },
  {
   "cell_type": "code",
   "execution_count": 25,
   "metadata": {},
   "outputs": [
    {
     "name": "stderr",
     "output_type": "stream",
     "text": [
      "Loading required package: foreach\n",
      "\n",
      "\n",
      "Attaching package: ‘foreach’\n",
      "\n",
      "\n",
      "The following objects are masked from ‘package:purrr’:\n",
      "\n",
      "    accumulate, when\n",
      "\n",
      "\n",
      "Loading required package: iterators\n",
      "\n"
     ]
    }
   ],
   "source": [
    "library(\"doParallel\")"
   ]
  },
  {
   "cell_type": "code",
   "execution_count": 26,
   "metadata": {},
   "outputs": [
    {
     "name": "stderr",
     "output_type": "stream",
     "text": [
      "\n",
      "Attaching package: ‘SCopeLoomR’\n",
      "\n",
      "\n",
      "The following object is masked from ‘package:base’:\n",
      "\n",
      "    flush\n",
      "\n",
      "\n"
     ]
    }
   ],
   "source": [
    "library(\"SCopeLoomR\")"
   ]
  },
  {
   "cell_type": "code",
   "execution_count": 27,
   "metadata": {},
   "outputs": [],
   "source": [
    "library(BiocGenerics)"
   ]
  },
  {
   "cell_type": "code",
   "execution_count": 28,
   "metadata": {},
   "outputs": [],
   "source": [
    "library(ggrepel)"
   ]
  },
  {
   "cell_type": "code",
   "execution_count": 29,
   "metadata": {},
   "outputs": [
    {
     "name": "stderr",
     "output_type": "stream",
     "text": [
      "Loading required package: grid\n",
      "\n",
      "========================================\n",
      "ComplexHeatmap version 2.4.3\n",
      "Bioconductor page: http://bioconductor.org/packages/ComplexHeatmap/\n",
      "Github page: https://github.com/jokergoo/ComplexHeatmap\n",
      "Documentation: http://jokergoo.github.io/ComplexHeatmap-reference\n",
      "\n",
      "If you use it in published research, please cite:\n",
      "Gu, Z. Complex heatmaps reveal patterns and correlations in multidimensional \n",
      "  genomic data. Bioinformatics 2016.\n",
      "\n",
      "This message can be suppressed by:\n",
      "  suppressPackageStartupMessages(library(ComplexHeatmap))\n",
      "========================================\n",
      "\n",
      "\n",
      "\n",
      "Attaching package: ‘ComplexHeatmap’\n",
      "\n",
      "\n",
      "The following object is masked from ‘package:plotly’:\n",
      "\n",
      "    add_heatmap\n",
      "\n",
      "\n"
     ]
    }
   ],
   "source": [
    "library(ComplexHeatmap)"
   ]
  },
  {
   "cell_type": "code",
   "execution_count": 30,
   "metadata": {},
   "outputs": [],
   "source": [
    "library(infercnv)"
   ]
  },
  {
   "cell_type": "code",
   "execution_count": 31,
   "metadata": {},
   "outputs": [
    {
     "name": "stderr",
     "output_type": "stream",
     "text": [
      "Loading required package: Rcpp\n",
      "\n"
     ]
    }
   ],
   "source": [
    "library(harmony)"
   ]
  },
  {
   "cell_type": "code",
   "execution_count": 32,
   "metadata": {},
   "outputs": [
    {
     "name": "stderr",
     "output_type": "stream",
     "text": [
      "Loading required package: annotate\n",
      "\n",
      "Loading required package: XML\n",
      "\n",
      "Loading required package: graph\n",
      "\n",
      "\n",
      "Attaching package: ‘graph’\n",
      "\n",
      "\n",
      "The following object is masked from ‘package:XML’:\n",
      "\n",
      "    addNode\n",
      "\n",
      "\n",
      "The following object is masked from ‘package:stringr’:\n",
      "\n",
      "    boundary\n",
      "\n",
      "\n"
     ]
    }
   ],
   "source": [
    "library(GSEABase)"
   ]
  },
  {
   "cell_type": "code",
   "execution_count": 33,
   "metadata": {},
   "outputs": [
    {
     "name": "stderr",
     "output_type": "stream",
     "text": [
      "\n",
      "Attaching package: ‘limma’\n",
      "\n",
      "\n",
      "The following object is masked from ‘package:BiocGenerics’:\n",
      "\n",
      "    plotMA\n",
      "\n",
      "\n"
     ]
    }
   ],
   "source": [
    "library(GSVA)\n",
    "library(limma)"
   ]
  },
  {
   "cell_type": "code",
   "execution_count": 34,
   "metadata": {},
   "outputs": [
    {
     "name": "stderr",
     "output_type": "stream",
     "text": [
      "\n",
      "Attaching package: ‘DESeq2’\n",
      "\n",
      "\n",
      "The following object is masked from ‘package:VGAM’:\n",
      "\n",
      "    rlog\n",
      "\n",
      "\n"
     ]
    }
   ],
   "source": [
    "require(dplyr)\n",
    "require(tidyr)\n",
    "library(DESeq2)"
   ]
  },
  {
   "cell_type": "code",
   "execution_count": 35,
   "metadata": {},
   "outputs": [
    {
     "name": "stderr",
     "output_type": "stream",
     "text": [
      "Loading required package: usethis\n",
      "\n"
     ]
    }
   ],
   "source": [
    "library(ggplot2)\n",
    "library(ggfortify)\n",
    "library(devtools)"
   ]
  },
  {
   "cell_type": "code",
   "execution_count": 36,
   "metadata": {},
   "outputs": [],
   "source": [
    "library(GSEABase)"
   ]
  },
  {
   "cell_type": "code",
   "execution_count": 37,
   "metadata": {},
   "outputs": [],
   "source": [
    "library(GSVA)\n",
    "library(limma)"
   ]
  },
  {
   "cell_type": "code",
   "execution_count": 38,
   "metadata": {},
   "outputs": [
    {
     "name": "stderr",
     "output_type": "stream",
     "text": [
      "\n",
      "\n",
      "\n",
      "Attaching package: ‘enrichplot’\n",
      "\n",
      "\n",
      "The following object is masked from ‘package:ggpubr’:\n",
      "\n",
      "    color_palette\n",
      "\n",
      "\n"
     ]
    }
   ],
   "source": [
    "library(GSVA)\n",
    "library(GSEABase)\n",
    "library(msigdbr)\n",
    "library(org.Hs.eg.db)\n",
    "library(enrichplot)\n",
    "library(limma)"
   ]
  },
  {
   "cell_type": "code",
   "execution_count": 39,
   "metadata": {},
   "outputs": [
    {
     "name": "stderr",
     "output_type": "stream",
     "text": [
      "clusterProfiler v3.16.1  For help: https://guangchuangyu.github.io/software/clusterProfiler\n",
      "\n",
      "If you use clusterProfiler in published research, please cite:\n",
      "Guangchuang Yu, Li-Gen Wang, Yanyan Han, Qing-Yu He. clusterProfiler: an R package for comparing biological themes among gene clusters. OMICS: A Journal of Integrative Biology. 2012, 16(5):284-287.\n",
      "\n",
      "\n",
      "Attaching package: ‘clusterProfiler’\n",
      "\n",
      "\n",
      "The following object is masked from ‘package:purrr’:\n",
      "\n",
      "    simplify\n",
      "\n",
      "\n",
      "The following object is masked from ‘package:DelayedArray’:\n",
      "\n",
      "    simplify\n",
      "\n",
      "\n",
      "The following object is masked from ‘package:AnnotationDbi’:\n",
      "\n",
      "    select\n",
      "\n",
      "\n",
      "The following object is masked from ‘package:IRanges’:\n",
      "\n",
      "    slice\n",
      "\n",
      "\n",
      "The following object is masked from ‘package:S4Vectors’:\n",
      "\n",
      "    rename\n",
      "\n",
      "\n",
      "The following object is masked from ‘package:stats’:\n",
      "\n",
      "    filter\n",
      "\n",
      "\n"
     ]
    }
   ],
   "source": [
    "library(clusterProfiler)"
   ]
  },
  {
   "cell_type": "code",
   "execution_count": 40,
   "metadata": {},
   "outputs": [],
   "source": [
    "library(tidyverse)"
   ]
  },
  {
   "cell_type": "code",
   "execution_count": 41,
   "metadata": {},
   "outputs": [
    {
     "data": {
      "text/plain": [
       "R version 4.0.3 (2020-10-10)\n",
       "Platform: x86_64-conda-linux-gnu (64-bit)\n",
       "Running under: Ubuntu 20.04.2 LTS\n",
       "\n",
       "Matrix products: default\n",
       "BLAS/LAPACK: /home/zhoujiaqi/miniconda2/envs/R/lib/libblas.so.3\n",
       "\n",
       "locale:\n",
       " [1] LC_CTYPE=en_US.UTF-8       LC_NUMERIC=C              \n",
       " [3] LC_TIME=zh_CN.UTF-8        LC_COLLATE=en_US.UTF-8    \n",
       " [5] LC_MONETARY=zh_CN.UTF-8    LC_MESSAGES=en_US.UTF-8   \n",
       " [7] LC_PAPER=zh_CN.UTF-8       LC_NAME=C                 \n",
       " [9] LC_ADDRESS=C               LC_TELEPHONE=C            \n",
       "[11] LC_MEASUREMENT=zh_CN.UTF-8 LC_IDENTIFICATION=C       \n",
       "\n",
       "attached base packages:\n",
       " [1] grid      splines   stats4    parallel  stats     graphics  grDevices\n",
       " [8] utils     datasets  methods   base     \n",
       "\n",
       "other attached packages:\n",
       " [1] clusterProfiler_3.16.1      enrichplot_1.8.1           \n",
       " [3] msigdbr_7.4.1               devtools_2.3.2             \n",
       " [5] usethis_1.6.3               ggfortify_0.4.11           \n",
       " [7] DESeq2_1.28.1               limma_3.44.3               \n",
       " [9] GSVA_1.36.3                 GSEABase_1.50.1            \n",
       "[11] graph_1.66.0                annotate_1.66.0            \n",
       "[13] XML_3.99-0.5                harmony_1.0                \n",
       "[15] Rcpp_1.0.7                  infercnv_1.4.0             \n",
       "[17] ComplexHeatmap_2.4.3        SCopeLoomR_0.3.1           \n",
       "[19] doParallel_1.0.16           iterators_1.0.13           \n",
       "[21] foreach_1.5.1               RcisTarget_1.8.0           \n",
       "[23] SCENIC_1.1.2-01             viridis_0.6.1              \n",
       "[25] viridisLite_0.4.0           forcats_0.5.1              \n",
       "[27] purrr_0.3.4                 readr_2.0.1                \n",
       "[29] tidyr_1.1.3                 tibble_3.1.4               \n",
       "[31] tidyverse_1.3.0             slingshot_1.6.1            \n",
       "[33] princurve_2.1.6             SingleCellExperiment_1.10.1\n",
       "[35] SummarizedExperiment_1.18.2 DelayedArray_0.14.1        \n",
       "[37] matrixStats_0.59.0          GenomicRanges_1.40.0       \n",
       "[39] GenomeInfoDb_1.28.1         LandSCENT_0.99.3           \n",
       "[41] org.Hs.eg.db_3.13.0         AnnotationDbi_1.54.0       \n",
       "[43] IRanges_2.22.2              S4Vectors_0.26.1           \n",
       "[45] pheatmap_1.0.12             htmlwidgets_1.5.3          \n",
       "[47] scales_1.1.1                stringr_1.4.0              \n",
       "[49] monocle_2.16.0              DDRTree_0.1.5              \n",
       "[51] irlba_2.3.3                 VGAM_1.1-5                 \n",
       "[53] Biobase_2.48.0              BiocGenerics_0.38.0        \n",
       "[55] Matrix_1.2-18               SingleR_1.0.1              \n",
       "[57] RColorBrewer_1.1-2          ggpubr_0.4.0               \n",
       "[59] DoubletFinder_2.0.2         clustree_0.4.3             \n",
       "[61] ggraph_2.0.5                plotly_4.9.3               \n",
       "[63] cowplot_1.1.1               patchwork_1.1.1            \n",
       "[65] SeuratObject_4.0.0          Seurat_4.0.0               \n",
       "[67] dplyr_1.0.7                 EnhancedVolcano_1.6.0      \n",
       "[69] ggrepel_0.9.1               ggplot2_3.3.5              \n",
       "\n",
       "loaded via a namespace (and not attached):\n",
       "  [1] graphlayouts_0.7.1        pbapply_1.4-3            \n",
       "  [3] lattice_0.20-41           haven_2.3.1              \n",
       "  [5] tcltk_4.0.3               vctrs_0.3.8              \n",
       "  [7] fastICA_1.2-2             mgcv_1.8-33              \n",
       "  [9] blob_1.2.1                survival_3.2-7           \n",
       " [11] spatstat.data_2.0-0       later_1.3.0              \n",
       " [13] DBI_1.1.1                 R.utils_2.10.1           \n",
       " [15] uwot_0.1.10               zlibbioc_1.34.0          \n",
       " [17] pcaMethods_1.80.0         singscore_1.8.0          \n",
       " [19] mvtnorm_1.1-1             GlobalOptions_0.1.2      \n",
       " [21] future_1.21.0             hdf5r_1.3.3              \n",
       " [23] misc3d_0.9-0              laeken_0.5.1             \n",
       " [25] leiden_0.3.7              scater_1.16.2            \n",
       " [27] DEoptimR_1.0-9            tidygraph_1.2.0          \n",
       " [29] IRdisplay_1.0             KernSmooth_2.23-18       \n",
       " [31] promises_1.2.0.1          IRkernel_1.1.1           \n",
       " [33] pkgload_1.2.2             dbscan_1.1-8             \n",
       " [35] RSpectra_0.16-0           fs_1.5.0                 \n",
       " [37] fastmatch_1.1-0           ranger_0.13.1            \n",
       " [39] digest_0.6.27             png_0.1-7                \n",
       " [41] rjags_4-10                qlcMatrix_0.9.7          \n",
       " [43] sctransform_0.3.2         scatterpie_0.1.7         \n",
       " [45] DOSE_3.14.0               GO.db_3.0.0              \n",
       " [47] pkgconfig_2.0.3           docopt_0.7.1             \n",
       " [49] DelayedMatrixStats_1.10.1 ggbeeswarm_0.6.0         \n",
       " [51] reticulate_1.20           circlize_0.4.13          \n",
       " [53] beeswarm_0.3.1            modeltools_0.2-23        \n",
       " [55] GetoptLong_1.0.5          zoo_1.8-8                \n",
       " [57] tidyselect_1.1.1          reshape2_1.4.4           \n",
       " [59] ica_1.0-2                 pkgbuild_1.1.0           \n",
       " [61] marray_1.66.0             rlang_0.4.11             \n",
       " [63] hexbin_1.28.2             spatstat_1.64-1          \n",
       " [65] glue_1.4.2                plot3D_1.4               \n",
       " [67] modelr_0.1.8              lambda.r_1.2.4           \n",
       " [69] europepmc_0.4             ggsignif_0.6.1           \n",
       " [71] httpuv_1.5.5              class_7.3-17             \n",
       " [73] pbmcapply_1.5.0           BiocNeighbors_1.6.0      \n",
       " [75] TH.data_1.0-10            corpcor_1.6.9            \n",
       " [77] isva_1.9                  DO.db_2.9                \n",
       " [79] jsonlite_1.7.2            XVector_0.28.0           \n",
       " [81] bit_4.0.4                 mime_0.11                \n",
       " [83] gridExtra_2.3             gplots_3.1.1             \n",
       " [85] stringi_1.7.4             processx_3.5.2           \n",
       " [87] scattermore_0.7           yulab.utils_0.0.2        \n",
       " [89] bitops_1.0-7              cli_3.0.1                \n",
       " [91] RSQLite_2.2.3             libcoin_1.0-6            \n",
       " [93] data.table_1.13.2         rstudioapi_0.13          \n",
       " [95] nlme_3.1-150              qvalue_2.20.0            \n",
       " [97] fastcluster_1.1.25        locfit_1.5-9.4           \n",
       " [99] listenv_0.8.0             ggthemes_4.2.4           \n",
       "[101] miniUI_0.1.1.1            gridGraphics_0.5-1       \n",
       "[103] R.oo_1.24.0               dbplyr_2.1.0             \n",
       "[105] sessioninfo_1.1.1         TTR_0.24.2               \n",
       "[107] readxl_1.3.1              lifecycle_1.0.0          \n",
       "[109] munsell_0.5.0             cellranger_1.1.0         \n",
       "[111] R.methodsS3_1.8.1         caTools_1.18.2           \n",
       "[113] codetools_0.2-18          coda_0.19-4              \n",
       "[115] vipor_0.4.5               lmtest_0.9-38            \n",
       "[117] triebeard_0.3.0           xtable_1.8-4             \n",
       "[119] ROCR_1.0-11               BiocManager_1.30.16      \n",
       "[121] formatR_1.7               scatterplot3d_0.3-41     \n",
       "[123] abind_1.4-5               farver_2.1.0             \n",
       "[125] FNN_1.1.3                 parallelly_1.26.1        \n",
       "[127] RANN_2.6.1                sparsesvd_0.2            \n",
       "[129] RcppAnnoy_0.0.18          goftest_1.2-2            \n",
       "[131] shinythemes_1.2.0         futile.options_1.0.1     \n",
       "[133] cluster_2.1.0             future.apply_1.7.0       \n",
       "[135] ellipsis_0.3.2            prettyunits_1.1.1        \n",
       "[137] lubridate_1.7.9           ggridges_0.5.3           \n",
       "[139] reprex_1.0.0              mclust_5.4.6             \n",
       "[141] igraph_1.2.6              RcppEigen_0.3.3.9.1      \n",
       "[143] fgsea_1.14.0              remotes_2.4.0            \n",
       "[145] slam_0.1-47               destiny_3.2.0            \n",
       "[147] VIM_6.1.0                 argparse_2.0.3           \n",
       "[149] testthat_3.0.4            spatstat.utils_2.0-0     \n",
       "[151] htmltools_0.5.2           utf8_1.2.2               \n",
       "[153] e1071_1.7-7               foreign_0.8-80           \n",
       "[155] withr_2.4.2               fitdistrplus_1.1-3       \n",
       "[157] BiocParallel_1.22.0       bit64_4.0.5              \n",
       "[159] multcomp_1.4-14           robustbase_0.93-8        \n",
       "[161] outliers_0.14             Biostrings_2.56.0        \n",
       "[163] GOSemSim_2.14.2           combinat_0.0-8           \n",
       "[165] rsvd_1.0.3                memoise_1.1.0            \n",
       "[167] evaluate_0.14             rio_0.5.26               \n",
       "[169] callr_3.7.0               geneplotter_1.66.0       \n",
       "[171] tzdb_0.1.2                ps_1.6.0                 \n",
       "[173] curl_4.3                  fansi_0.5.0              \n",
       "[175] urltools_1.7.3            xts_0.12.1               \n",
       "[177] tensor_1.5                edgeR_3.32.0             \n",
       "[179] desc_1.3.0                doFuture_0.12.0          \n",
       "[181] deldir_0.2-3              babelgene_21.4           \n",
       "[183] rjson_0.2.20              openxlsx_4.2.4           \n",
       "[185] rstatix_0.7.0             getPass_0.2-2            \n",
       "[187] rprojroot_2.0.2           clue_0.3-59              \n",
       "[189] tools_4.0.3               sandwich_3.0-0           \n",
       "[191] magrittr_2.0.1            RCurl_1.98-1.3           \n",
       "[193] proxy_0.4-26              car_3.0-10               \n",
       "[195] ape_5.4-1                 ggplotify_0.0.9          \n",
       "[197] xml2_1.3.2                httr_1.4.2               \n",
       "[199] assertthat_0.2.1          boot_1.3-25              \n",
       "[201] globals_0.14.0            R6_2.5.1                 \n",
       "[203] nnet_7.3-14               RcppHNSW_0.3.0           \n",
       "[205] progress_1.2.2            genefilter_1.70.0        \n",
       "[207] KEGGREST_1.28.0           pbdZMQ_0.3-5             \n",
       "[209] gtools_3.9.2              shape_1.4.6              \n",
       "[211] coin_1.3-1                repr_1.1.3               \n",
       "[213] BiocSingular_1.4.0        AUCell_1.10.0            \n",
       "[215] carData_3.0-4             ggfun_0.0.3              \n",
       "[217] colorspace_2.0-2          generics_0.1.0           \n",
       "[219] base64enc_0.1-3           smoother_1.1             \n",
       "[221] pillar_1.6.2              tweenr_1.0.2             \n",
       "[223] sp_1.4-5                  ggplot.multistats_1.0.0  \n",
       "[225] HSMMSingleCell_1.10.0     uuid_0.1-4               \n",
       "[227] rvcheck_0.1.8             GenomeInfoDbData_1.2.4   \n",
       "[229] plyr_1.8.6                gtable_0.3.0             \n",
       "[231] futile.logger_1.4.3       rvest_1.0.0              \n",
       "[233] zip_2.1.1                 fastmap_1.1.0            \n",
       "[235] vcd_1.4-8                 broom_0.7.5              \n",
       "[237] backports_1.2.0           densityClust_0.3         \n",
       "[239] feather_0.3.5             hms_1.1.0                \n",
       "[241] ggforce_0.3.3             Rtsne_0.15               \n",
       "[243] shiny_1.6.0               polyclip_1.10-0          \n",
       "[245] lazyeval_0.2.2            JADE_2.0-3               \n",
       "[247] crayon_1.4.1              MASS_7.3-53              \n",
       "[249] downloader_0.4            reshape_0.8.8            \n",
       "[251] rpart_4.1-15              compiler_4.0.3           "
      ]
     },
     "metadata": {},
     "output_type": "display_data"
    }
   ],
   "source": [
    "sessionInfo()"
   ]
  }
 ],
 "metadata": {
  "kernelspec": {
   "display_name": "R",
   "language": "R",
   "name": "ir"
  },
  "language_info": {
   "codemirror_mode": "r",
   "file_extension": ".r",
   "mimetype": "text/x-r-source",
   "name": "R",
   "pygments_lexer": "r",
   "version": "4.0.3"
  }
 },
 "nbformat": 4,
 "nbformat_minor": 2
}
